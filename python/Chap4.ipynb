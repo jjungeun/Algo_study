{
 "cells": [
  {
   "cell_type": "markdown",
   "metadata": {},
   "source": [
    "# 퀵 정렬"
   ]
  },
  {
   "cell_type": "markdown",
   "metadata": {},
   "source": [
    "퀵 정렬이 사용하는 **분할 정복** 전략에 대해 공부한다.\n",
    "\n",
    "가끔 공부한 어떤 알고리즘으로도 풀 수 없는 문제를 만날 수 있는데, 분할 정복 전략은 이런 문제를 풀기 위한 첫번째 ***범용 기술*** 이다."
   ]
  },
  {
   "cell_type": "markdown",
   "metadata": {},
   "source": [
    "분할정복 전략은 '재귀적 알고리즘'이다. 분할 정복 전략을 위해선 두단계가 필요하다.\n",
    "1. 기본문제를 해결한다.\n",
    "2. 문제가 기본문제가 될 때까지 나누거나 작게 만든다."
   ]
  },
  {
   "cell_type": "markdown",
   "metadata": {},
   "source": [
    "예를들어 배열의 합을 구하는 것을 생각해 보자. 물론 반복문을 사용할 수 있지만 분할 정복을 사용할 수도 있다.\n"
   ]
  },
  {
   "cell_type": "code",
   "execution_count": 1,
   "metadata": {},
   "outputs": [],
   "source": [
    "def sum(arr):\n",
    "    if len(arr) <=1 :\n",
    "        return arr[0]\n",
    "    else :\n",
    "        return arr[0] + sum(arr[1:])"
   ]
  },
  {
   "cell_type": "code",
   "execution_count": 2,
   "metadata": {},
   "outputs": [
    {
     "data": {
      "text/plain": [
       "6"
      ]
     },
     "execution_count": 2,
     "metadata": {},
     "output_type": "execute_result"
    }
   ],
   "source": [
    "sum([1,2,3])"
   ]
  },
  {
   "cell_type": "markdown",
   "metadata": {},
   "source": [
    "**note.** 배열을 포함하는 재귀함수에서 기본 단계는 보통 빈 배열이나 원소가 하나뿐인 배열이다."
   ]
  },
  {
   "cell_type": "markdown",
   "metadata": {},
   "source": [
    "### 퀵 정렬"
   ]
  },
  {
   "cell_type": "markdown",
   "metadata": {},
   "source": [
    "퀵 정렬은 정렬 알고리즘이다. 선택 정렬보다 훨씬 빠르다."
   ]
  },
  {
   "cell_type": "markdown",
   "metadata": {},
   "source": [
    "원소가 없거나 하나인 배열은 정렬할 필요 없이 배열을 바로 return하면 된다.\n",
    "\n",
    "원소가 두개인 배열은 첫 번째 원소가 두 번째 원소보다 작은지 살피고 그렇지 않다면 두 원소를 교환한다.\n",
    "\n",
    "원소가 세개인 배열은 기준원소를 기준으로 큰 원소와 작은 원소로 분류한다.\n",
    "\n",
    "원소가 네개인 배열부터도 기준원소를 기준으로 기준원소보다 큰 배열과 작은 배열로 분류하고, 그 각각의 배열에 퀵정렬을 호출한다."
   ]
  },
  {
   "cell_type": "markdown",
   "metadata": {},
   "source": [
    "따라서 퀵 정렬은 다음과 같은 순서를 가진다.\n",
    "1. 기준원소를 고른다.\n",
    "2. 배열을 기준원소보다 작은 원소의 배열과 큰 원소의 배열로 분할한다.\n",
    "3. 하위 배열에 대해 재귀적으로 퀵 정렬을 호출한다."
   ]
  },
  {
   "cell_type": "code",
   "execution_count": 3,
   "metadata": {},
   "outputs": [],
   "source": [
    "def quicksort(arr):\n",
    "    if len(arr) < 2:\n",
    "        return arr\n",
    "    else :\n",
    "        sarr = []\n",
    "        larr = []\n",
    "        value = arr[0]\n",
    "        for i in arr[1:]:\n",
    "            if i <= value :\n",
    "                sarr.append(i)\n",
    "            else :\n",
    "                larr.append(i)\n",
    "        return quicksort(sarr)+ [value] + quicksort(larr)"
   ]
  },
  {
   "cell_type": "code",
   "execution_count": 4,
   "metadata": {},
   "outputs": [
    {
     "data": {
      "text/plain": [
       "[0, 1, 2, 3, 5, 6]"
      ]
     },
     "execution_count": 4,
     "metadata": {},
     "output_type": "execute_result"
    }
   ],
   "source": [
    "quicksort([5,6,3,2,1,0])"
   ]
  },
  {
   "cell_type": "markdown",
   "metadata": {},
   "source": [
    "밑에는 책 풀이(리스트안에 반복문을 내포)"
   ]
  },
  {
   "cell_type": "code",
   "execution_count": 5,
   "metadata": {},
   "outputs": [],
   "source": [
    "def quick(arr):\n",
    "    if len(arr) < 2:\n",
    "        return arr\n",
    "    else:\n",
    "        value = arr[0]\n",
    "        sarr = [i for i in arr[1:] if i <= value]\n",
    "        larr = [i for i in arr[1:] if i > value]\n",
    "        \n",
    "        return quick(sarr) + [value] + quicksort(larr)"
   ]
  },
  {
   "cell_type": "code",
   "execution_count": 6,
   "metadata": {},
   "outputs": [
    {
     "data": {
      "text/plain": [
       "[1, 2, 3, 5, 6]"
      ]
     },
     "execution_count": 6,
     "metadata": {},
     "output_type": "execute_result"
    }
   ],
   "source": [
    "quick([3,6,2,5,1])"
   ]
  },
  {
   "cell_type": "markdown",
   "metadata": {},
   "source": [
    "###  빅오 표기법 복습"
   ]
  },
  {
   "cell_type": "markdown",
   "metadata": {},
   "source": [
    "퀵정렬의 실행시간은 보통 O(nlogn)이지만 최선의 경우 O(logn), 최악의 경우 O(n^2)이 될 수도 있다."
   ]
  },
  {
   "cell_type": "markdown",
   "metadata": {},
   "source": [
    "처리속도는 한 단계에서의 실행시간 * 스택의 크기이다.\n",
    "\n",
    "**실행시간** : 배열을 어떻게 분할하든 매번 O(n)개의 원소를 모두 비교해야 한다.\n",
    "\n",
    "**스택의 크기** : 퀵 정렬은 선택한 기준 원소에 따라 처리 속도가 달라진다.\n",
    "예를들어 이미 정렬되어있는 배열의 경우 기준원소를 첫번째 원소로 할 때 스택의 크기가 O(n)이 된다.\n",
    "\n",
    "하지만 같은 상황에서 중간을 기준원소로 한다면 스택의 크기가 O(logn)이 된다."
   ]
  },
  {
   "cell_type": "markdown",
   "metadata": {},
   "source": [
    "따라서 퀵정렬은 O(nlogn) <= O <= O(n^2)이 된다."
   ]
  },
  {
   "cell_type": "markdown",
   "metadata": {},
   "source": [
    "그런데 퀵 정렬에서는 일반적인 경우에도 최선의 경우와 같은 실행 속도를 가진다. \n",
    "\n",
    "***기준원소를 전체 배열에서 무작위로 선택한다면 퀵 정렬은 평균적으로 O(nlogn)의 실행시간을 가지게 된다.***"
   ]
  },
  {
   "cell_type": "markdown",
   "metadata": {},
   "source": [
    "### 연습문제"
   ]
  },
  {
   "cell_type": "markdown",
   "metadata": {},
   "source": [
    "#1. 리스트에 포함된 원소를 출력하는 재귀함수를 작성하라"
   ]
  },
  {
   "cell_type": "code",
   "execution_count": 7,
   "metadata": {},
   "outputs": [],
   "source": [
    "def lnum(arr):\n",
    "    if len(arr) <= 1:\n",
    "        return arr\n",
    "    else:\n",
    "        return [arr[0]] + lnum(arr[1:])"
   ]
  },
  {
   "cell_type": "code",
   "execution_count": 8,
   "metadata": {},
   "outputs": [
    {
     "name": "stdout",
     "output_type": "stream",
     "text": [
      "[1, 4, 2, 5, 3]\n"
     ]
    }
   ],
   "source": [
    "print(lnum([1,4,2,5,3]))"
   ]
  },
  {
   "cell_type": "markdown",
   "metadata": {},
   "source": [
    "#2. 리스트에서 가장 큰 수를 찾아라"
   ]
  },
  {
   "cell_type": "code",
   "execution_count": 9,
   "metadata": {},
   "outputs": [],
   "source": [
    "def findBig(arr):\n",
    "    if len(arr) <= 1:\n",
    "        return arr[0]\n",
    "    else:\n",
    "        value = arr[0]\n",
    "        larr = [i for i in arr[1:] if i > value]\n",
    "        \n",
    "        if len(larr) == 0:\n",
    "            return value\n",
    "        else:\n",
    "            return findBig(larr)"
   ]
  },
  {
   "cell_type": "code",
   "execution_count": 10,
   "metadata": {},
   "outputs": [
    {
     "name": "stdout",
     "output_type": "stream",
     "text": [
      "6\n"
     ]
    }
   ],
   "source": [
    "print(findBig([4,3,6,2]))"
   ]
  }
 ],
 "metadata": {
  "kernelspec": {
   "display_name": "Python 3",
   "language": "python",
   "name": "python3"
  },
  "language_info": {
   "codemirror_mode": {
    "name": "ipython",
    "version": 3
   },
   "file_extension": ".py",
   "mimetype": "text/x-python",
   "name": "python",
   "nbconvert_exporter": "python",
   "pygments_lexer": "ipython3",
   "version": "3.6.7"
  }
 },
 "nbformat": 4,
 "nbformat_minor": 2
}
