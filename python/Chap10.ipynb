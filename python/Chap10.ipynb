{
 "cells": [
  {
   "cell_type": "markdown",
   "metadata": {},
   "source": [
    "# KNN알고리즘\n",
    "knn 알고리즘을 사용하여 분류 시스템을 만드는 법을 배운다.\n",
    "\n",
    "특징 추출에 대해 공부한다.\n",
    "\n",
    "숫자를 예측하는 방법인 회귀분석을 익힌다.\n",
    "\n",
    "어떤 경우에 knn알고리즘을 사용할 수 있는지, 그 한계점은 무엇인지 알아본다."
   ]
  },
  {
   "cell_type": "markdown",
   "metadata": {},
   "source": [
    "좋은 feature 고르기(예를들어 영화 추천 시스템)\n",
    "- 추천하고지 하는 영화와 직접 관련이 있는 특징\n",
    "- 편향되지 않은 특징"
   ]
  },
  {
   "cell_type": "markdown",
   "metadata": {},
   "source": [
    "머신러닝\n",
    "\n",
    "knn은 머신러닝을 구현하기 위한 좋은 알고리즘 중 하나이다.\n",
    "예를들어  OCR도  KNN을 기반으로 만들어진 기술이다.\n",
    "\n",
    "스팸 필터는 나이브 베이즈 분류기라는 간단한 알고리즘을 사용한다."
   ]
  }
 ],
 "metadata": {
  "kernelspec": {
   "display_name": "Python 3",
   "language": "python",
   "name": "python3"
  },
  "language_info": {
   "codemirror_mode": {
    "name": "ipython",
    "version": 3
   },
   "file_extension": ".py",
   "mimetype": "text/x-python",
   "name": "python",
   "nbconvert_exporter": "python",
   "pygments_lexer": "ipython3",
   "version": "3.6.5"
  }
 },
 "nbformat": 4,
 "nbformat_minor": 2
}
