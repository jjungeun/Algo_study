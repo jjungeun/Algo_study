{
 "cells": [
  {
   "cell_type": "markdown",
   "metadata": {},
   "source": [
    "# 너비 우선 탐색\n",
    "추상 자료구조인 그래프를 사용하여 네트워크를 모형화하는 방법을 배운다.\n",
    "\n",
    "너비 우선 탐색은 그래프를 이용해 최단 경로를 구하는 알고리즘이다."
   ]
  },
  {
   "cell_type": "markdown",
   "metadata": {},
   "source": [
    "방향 그래프와 무방향 그래프를 배운다.\n",
    "\n",
    "각 정점간의 의존성을 표현하는 정렬 알고리즘(**위상정렬**)을 배운다."
   ]
  },
  {
   "cell_type": "markdown",
   "metadata": {},
   "source": [
    "너비 우선 탐색 문제를 풀려면 두가지가 필요하다.\n",
    "1. 문제를 그래프로 모형화한다.\n",
    "2. 너비우선탐색으로 문제를 푼다."
   ]
  },
  {
   "cell_type": "markdown",
   "metadata": {},
   "source": [
    "모형화를 위해 node와 edge로 구성된 그래프를 생성한다."
   ]
  },
  {
   "cell_type": "markdown",
   "metadata": {},
   "source": [
    "현재 노드에서 목표 노드에 도달할때 까지 전체 네트워크를 탐색하는 알고리즘이 바로 너비 우선 탐색이다.\n",
    "\n",
    "너비 우선 탐색이 진행될수록 탐색 범위는 출발점에서 멀어진다. 따라서 얕은 depth부터 우선 탐색을 한다. \n",
    "\n",
    "따라서 탐색 목록에 더해진 순서대로 탐색을 하기 위해 **큐 또는 대기열** 자료구조를 사용한다."
   ]
  },
  {
   "cell_type": "markdown",
   "metadata": {},
   "source": [
    "### 큐\n",
    "큐는 큐 안의 원소에 임의로 접근할 수 없다. 선입선출 자료구조이기 때문에 먼저 삽입된 항목이 먼저 제거된다."
   ]
  },
  {
   "cell_type": "markdown",
   "metadata": {},
   "source": [
    "그렇다면 그래프를 어떻게 구현할까? 바로 **해시 테이블**을 사용하면 된다. \n",
    "\n",
    "예를들어 친구관계를 나타내는 그래프를 구현해 본다."
   ]
  },
  {
   "cell_type": "code",
   "execution_count": 1,
   "metadata": {},
   "outputs": [],
   "source": [
    "graph = {}\n",
    "graph['me'] = ['alice','bob','claire']\n",
    "graph['alice'] = ['peggy']\n",
    "graph['bob'] = ['anuj','peggy']\n",
    "graph['claire'] = ['tom']\n",
    "graph['anuj'] = []\n",
    "graph['peggy'] = []\n",
    "graph['tom'] = []"
   ]
  },
  {
   "cell_type": "markdown",
   "metadata": {},
   "source": [
    "anuj,peggy,tom을 향한 화살표는 있어도 이들로부터 나아가는 화살표가 없다. 이렇게 방향을 가지는 그래프를 방향 그래프라고 한다."
   ]
  },
  {
   "cell_type": "markdown",
   "metadata": {},
   "source": [
    "### 알고리즘의 구현\n",
    "1. 노드를 넣을 큐를 준비한다.\n",
    "2. 큐에서 노드를 pop한다.\n",
    "3. 조건에 맞는지 확인한다.\n",
    "4. 맞다면 끝. 아니라면 이 노드의 하위 노드를 큐에 push한다.\n",
    "5. 2에서 4를 반복한다. 만약 큐가 비어있다면 탐색에 실패한다."
   ]
  },
  {
   "cell_type": "markdown",
   "metadata": {},
   "source": [
    "파이썬에서는 양방향 큐인 deque 함수를 사용할 수 있다. 임의로 이름이 m으로 끝나면 seller인 것으로 판별한다."
   ]
  },
  {
   "cell_type": "code",
   "execution_count": 2,
   "metadata": {},
   "outputs": [],
   "source": [
    "from collections import deque"
   ]
  },
  {
   "cell_type": "code",
   "execution_count": 3,
   "metadata": {},
   "outputs": [],
   "source": [
    "def is_seller(name):\n",
    "    return name[-1] == 'm'"
   ]
  },
  {
   "cell_type": "code",
   "execution_count": 4,
   "metadata": {},
   "outputs": [],
   "source": [
    "def search_width(search_queue):\n",
    "    while search_queue:\n",
    "        person = search_queue.popleft()\n",
    "        if is_seller(person):\n",
    "            print(person + ' is seller')\n",
    "            return True\n",
    "        else:\n",
    "            search_queue += graph[person]\n",
    "    \n",
    "    print('There is no seller')\n",
    "    return False"
   ]
  },
  {
   "cell_type": "code",
   "execution_count": 5,
   "metadata": {},
   "outputs": [
    {
     "name": "stdout",
     "output_type": "stream",
     "text": [
      "tom is seller\n"
     ]
    },
    {
     "data": {
      "text/plain": [
       "True"
      ]
     },
     "execution_count": 5,
     "metadata": {},
     "output_type": "execute_result"
    }
   ],
   "source": [
    "search_queue = deque()\n",
    "search_queue += graph['me']\n",
    "search_width(search_queue)"
   ]
  },
  {
   "cell_type": "markdown",
   "metadata": {},
   "source": [
    "하지만 현재는 그래프가 순환그래프가 아니지만 seller가 없고 순환그래프가 된다면 위의 코드는 무한루프를 돌게 된다.\n",
    "\n",
    "예를들어 tom을 ton으로 바꾸고 peggy에서 alice로 화살표를 그려보면 에러가 난다."
   ]
  },
  {
   "cell_type": "code",
   "execution_count": 6,
   "metadata": {},
   "outputs": [],
   "source": [
    "graph = {}\n",
    "graph['me'] = ['alice','bob','claire']\n",
    "graph['alice'] = ['peggy']\n",
    "graph['bob'] = ['anuj','peggy']\n",
    "graph['claire'] = ['ton']\n",
    "graph['anuj'] = []\n",
    "graph['peggy'] = ['alice']\n",
    "graph['ton'] = []"
   ]
  },
  {
   "cell_type": "code",
   "execution_count": 7,
   "metadata": {},
   "outputs": [
    {
     "ename": "KeyboardInterrupt",
     "evalue": "",
     "output_type": "error",
     "traceback": [
      "\u001b[0;31m---------------------------------------------------------------------------\u001b[0m",
      "\u001b[0;31mKeyboardInterrupt\u001b[0m                         Traceback (most recent call last)",
      "\u001b[0;32m<ipython-input-7-6cd6a3855d1a>\u001b[0m in \u001b[0;36m<module>\u001b[0;34m()\u001b[0m\n\u001b[1;32m      1\u001b[0m \u001b[0msearch_queue\u001b[0m \u001b[0;34m=\u001b[0m \u001b[0mdeque\u001b[0m\u001b[0;34m(\u001b[0m\u001b[0;34m)\u001b[0m\u001b[0;34m\u001b[0m\u001b[0;34m\u001b[0m\u001b[0m\n\u001b[1;32m      2\u001b[0m \u001b[0msearch_queue\u001b[0m \u001b[0;34m+=\u001b[0m \u001b[0mgraph\u001b[0m\u001b[0;34m[\u001b[0m\u001b[0;34m'me'\u001b[0m\u001b[0;34m]\u001b[0m\u001b[0;34m\u001b[0m\u001b[0;34m\u001b[0m\u001b[0m\n\u001b[0;32m----> 3\u001b[0;31m \u001b[0msearch_width\u001b[0m\u001b[0;34m(\u001b[0m\u001b[0msearch_queue\u001b[0m\u001b[0;34m)\u001b[0m\u001b[0;34m\u001b[0m\u001b[0;34m\u001b[0m\u001b[0m\n\u001b[0m",
      "\u001b[0;32m<ipython-input-4-e413b51fb169>\u001b[0m in \u001b[0;36msearch_width\u001b[0;34m(search_queue)\u001b[0m\n\u001b[1;32m      2\u001b[0m     \u001b[0;32mwhile\u001b[0m \u001b[0msearch_queue\u001b[0m\u001b[0;34m:\u001b[0m\u001b[0;34m\u001b[0m\u001b[0;34m\u001b[0m\u001b[0m\n\u001b[1;32m      3\u001b[0m         \u001b[0mperson\u001b[0m \u001b[0;34m=\u001b[0m \u001b[0msearch_queue\u001b[0m\u001b[0;34m.\u001b[0m\u001b[0mpopleft\u001b[0m\u001b[0;34m(\u001b[0m\u001b[0;34m)\u001b[0m\u001b[0;34m\u001b[0m\u001b[0;34m\u001b[0m\u001b[0m\n\u001b[0;32m----> 4\u001b[0;31m         \u001b[0;32mif\u001b[0m \u001b[0mis_seller\u001b[0m\u001b[0;34m(\u001b[0m\u001b[0mperson\u001b[0m\u001b[0;34m)\u001b[0m\u001b[0;34m:\u001b[0m\u001b[0;34m\u001b[0m\u001b[0;34m\u001b[0m\u001b[0m\n\u001b[0m\u001b[1;32m      5\u001b[0m             \u001b[0mprint\u001b[0m\u001b[0;34m(\u001b[0m\u001b[0mperson\u001b[0m \u001b[0;34m+\u001b[0m \u001b[0;34m' is seller'\u001b[0m\u001b[0;34m)\u001b[0m\u001b[0;34m\u001b[0m\u001b[0;34m\u001b[0m\u001b[0m\n\u001b[1;32m      6\u001b[0m             \u001b[0;32mreturn\u001b[0m \u001b[0;32mTrue\u001b[0m\u001b[0;34m\u001b[0m\u001b[0;34m\u001b[0m\u001b[0m\n",
      "\u001b[0;31mKeyboardInterrupt\u001b[0m: "
     ]
    }
   ],
   "source": [
    "search_queue = deque()\n",
    "search_queue += graph['me']\n",
    "search_width(search_queue)"
   ]
  },
  {
   "cell_type": "markdown",
   "metadata": {},
   "source": [
    "따라서 한번 확인한 노드는 다시 확인하지 않도록 한다."
   ]
  },
  {
   "cell_type": "code",
   "execution_count": 8,
   "metadata": {},
   "outputs": [],
   "source": [
    "def search_width(search_queue):\n",
    "    search_queue = deque()\n",
    "    search_queue += graph['me']\n",
    "    checked = []\n",
    "    while search_queue:\n",
    "        person = search_queue.popleft()\n",
    "        if person in checked:\n",
    "            continue\n",
    "        if is_seller(person):\n",
    "            print(person + ' is seller')\n",
    "            return True\n",
    "        else:\n",
    "            checked.append(person)\n",
    "            search_queue += graph[person]\n",
    "    \n",
    "    print('There is no seller')\n",
    "    return False"
   ]
  },
  {
   "cell_type": "code",
   "execution_count": 9,
   "metadata": {},
   "outputs": [
    {
     "name": "stdout",
     "output_type": "stream",
     "text": [
      "There is no seller\n"
     ]
    },
    {
     "data": {
      "text/plain": [
       "False"
      ]
     },
     "execution_count": 9,
     "metadata": {},
     "output_type": "execute_result"
    }
   ],
   "source": [
    "search_width(search_queue)"
   ]
  },
  {
   "cell_type": "markdown",
   "metadata": {},
   "source": [
    "### 실행시간"
   ]
  },
  {
   "cell_type": "markdown",
   "metadata": {},
   "source": [
    "네트워크를 탐색하기 위해서 모든 노드를 따라 움직이게 된다. 따라서 실행시간은 최소한 O(edge의 개수)가 된다.\n",
    "\n",
    "그리고 탐색할 노드를 저장하는 큐도 있어야 한다. 큐에 노드를 추가하는 시간은 상수시간이 걸린다. 따라서 모든 노드수를 추가하는데는 O(노드수)가 걸린다.\n",
    "\n",
    "즉 너비우선 탐색은 **O(edge개수 + 노드수)**시간이 걸린다."
   ]
  },
  {
   "cell_type": "markdown",
   "metadata": {},
   "source": [
    "# TIP\n",
    "### 최단경로 문제가 있다면 문제를 그래프로 모형화한 뒤 너비우선탐색으로 문제를 푼다! \n",
    "### 탐색 목록은 큐여야 한다. 중복으로 확인하면 안된다!"
   ]
  }
 ],
 "metadata": {
  "kernelspec": {
   "display_name": "Python 3",
   "language": "python",
   "name": "python3"
  },
  "language_info": {
   "codemirror_mode": {
    "name": "ipython",
    "version": 3
   },
   "file_extension": ".py",
   "mimetype": "text/x-python",
   "name": "python",
   "nbconvert_exporter": "python",
   "pygments_lexer": "ipython3",
   "version": "3.6.7"
  }
 },
 "nbformat": 4,
 "nbformat_minor": 2
}
