{
 "cells": [
  {
   "cell_type": "markdown",
   "metadata": {},
   "source": [
    "점심시간에 도둑이 들어, 일부 학생이 체육복을 도난당했습니다. 다행히 여벌 체육복이 있는 학생이 이들에게 체육복을 빌려주려 합니다. 학생들의 번호는 체격 순으로 매겨져 있어, 바로 앞번호의 학생이나 바로 뒷번호의 학생에게만 체육복을 빌려줄 수 있습니다. 예를 들어, 4번 학생은 3번 학생이나 5번 학생에게만 체육복을 빌려줄 수 있습니다. 체육복이 없으면 수업을 들을 수 없기 때문에 체육복을 적절히 빌려 최대한 많은 학생이 체육수업을 들어야 합니다.\n",
    "\n",
    "전체 학생의 수 n, 체육복을 도난당한 학생들의 번호가 담긴 배열 lost, 여벌의 체육복을 가져온 학생들의 번호가 담긴 배열 reserve가 매개변수로 주어질 때, 체육수업을 들을 수 있는 학생의 최댓값을 return 하도록 solution 함수를 작성해주세요.\n",
    "\n",
    "제한사항\n",
    "- 전체 학생의 수는 2명 이상 30명 이하입니다.\n",
    "- 체육복을 도난당한 학생의 수는 1명 이상 n명 이하이고 중복되는 번호는 없습니다.\n",
    "- 여벌의 체육복을 가져온 학생의 수는 1명 이상 n명 이하이고 중복되는 번호는 없습니다.\n",
    "- 여벌 체육복이 있는 학생만 다른 학생에게 체육복을 빌려줄 수 있습니다.\n",
    "- 여벌 체육복을 가져온 학생이 체육복을 도난당했을 수 있습니다. 이때 이 학생은 체육복을 하나만 도난당했다고 가정하며, 남은 체육복이 하나이기에 다른 학생에게는 체육복을 빌려줄 수 없습니다."
   ]
  },
  {
   "cell_type": "markdown",
   "metadata": {},
   "source": [
    "처음엔 다음과 같이 풀었는데, 테스트 케이스 1개를 못 풀었다."
   ]
  },
  {
   "cell_type": "code",
   "execution_count": 1,
   "metadata": {},
   "outputs": [],
   "source": [
    "def solution(n, lost, reserve):\n",
    "    answer = 0\n",
    "    answer += n - len(lost)\n",
    "                \n",
    "    for idx in range(len(lost)):\n",
    "        for r in range(len(reserve)):\n",
    "            if lost[idx] in range(reserve[r]-1,reserve[r]+2):\n",
    "                answer += 1\n",
    "                reserve.pop(r)\n",
    "                break\n",
    "            \n",
    "    return answer"
   ]
  },
  {
   "cell_type": "code",
   "execution_count": 2,
   "metadata": {},
   "outputs": [
    {
     "data": {
      "text/plain": [
       "4"
      ]
     },
     "execution_count": 2,
     "metadata": {},
     "output_type": "execute_result"
    }
   ],
   "source": [
    "solution(5,[2,4],[2])"
   ]
  },
  {
   "cell_type": "markdown",
   "metadata": {},
   "source": [
    "완전히 다른 방식으로 풀어 보았다."
   ]
  },
  {
   "cell_type": "code",
   "execution_count": 3,
   "metadata": {},
   "outputs": [],
   "source": [
    "def solution(n, lost, reserve):\n",
    "    answer = 0\n",
    "    answer = n\n",
    "    arr = [1 for i in range(n)]\n",
    "    \n",
    "    # 여분을 가지고 왔으면 1 더하기\n",
    "    for r in reserve:\n",
    "        arr[r-1] += 1\n",
    "\n",
    "    # 잃어버렸으면 1 뺴기\n",
    "    for l in lost:\n",
    "        arr[l-1] -= 1\n",
    "    \n",
    "    # 0주변에 2가 있으면 1 더하기\n",
    "    for i in range(len(arr)):\n",
    "        if i == 0:\n",
    "            if arr[i] == 0 and arr[i+1] == 2:\n",
    "                arr[i+1] -= 1\n",
    "                arr[i] += 1\n",
    "        elif i == n-1:\n",
    "            if arr[i] == 0 and arr[i-1] == 2:\n",
    "                arr[i-1] -= 1\n",
    "                arr[i] += 1\n",
    "        else :\n",
    "            if arr[i] == 0 :\n",
    "                if arr[i-1] == 2: \n",
    "                    arr[i-1] -= 1\n",
    "                    arr[i] += 1\n",
    "                elif arr[i+1] == 2:\n",
    "                    arr[i+1] -= 1\n",
    "                    arr[i] += 1\n",
    "    \n",
    "    answer = n - arr.count(0)\n",
    "    \n",
    "    return answer"
   ]
  },
  {
   "cell_type": "code",
   "execution_count": 4,
   "metadata": {},
   "outputs": [
    {
     "data": {
      "text/plain": [
       "4"
      ]
     },
     "execution_count": 4,
     "metadata": {},
     "output_type": "execute_result"
    }
   ],
   "source": [
    "solution(5,[2,4],[2])"
   ]
  },
  {
   "cell_type": "markdown",
   "metadata": {},
   "source": [
    "리스트 문제는 bound error를 피하려면 인덱스를 가지고 깊이 생각해서 풀것!\n",
    "\n",
    "분류 : Greedy"
   ]
  }
 ],
 "metadata": {
  "kernelspec": {
   "display_name": "Python 3",
   "language": "python",
   "name": "python3"
  },
  "language_info": {
   "codemirror_mode": {
    "name": "ipython",
    "version": 3
   },
   "file_extension": ".py",
   "mimetype": "text/x-python",
   "name": "python",
   "nbconvert_exporter": "python",
   "pygments_lexer": "ipython3",
   "version": "3.6.7"
  }
 },
 "nbformat": 4,
 "nbformat_minor": 2
}
