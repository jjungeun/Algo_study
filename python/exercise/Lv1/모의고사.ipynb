{
 "cells": [
  {
   "cell_type": "markdown",
   "metadata": {},
   "source": [
    "수포자는 수학을 포기한 사람의 준말입니다. 수포자 삼인방은 모의고사에 수학 문제를 전부 찍으려 합니다. 수포자는 1번 문제부터 마지막 문제까지 다음과 같이 찍습니다.\n",
    "\n",
    "1번 수포자가 찍는 방식: 1, 2, 3, 4, 5, 1, 2, 3, 4, 5, ...\n",
    "\n",
    "2번 수포자가 찍는 방식: 2, 1, 2, 3, 2, 4, 2, 5, 2, 1, 2, 3, 2, 4, 2, 5, ...\n",
    "\n",
    "3번 수포자가 찍는 방식: 3, 3, 1, 1, 2, 2, 4, 4, 5, 5, 3, 3, 1, 1, 2, 2, 4, 4, 5, 5, ...\n",
    "\n",
    "1번 문제부터 마지막 문제까지의 정답이 순서대로 들은 배열 answers가 주어졌을 때, 가장 많은 문제를 맞힌 사람이 누구인지 배열에 담아 return 하도록 solution 함수를 작성해주세요.\n",
    "\n",
    "제한 조건\n",
    "- 시험은 최대 10,000 문제로 구성되어있습니다.\n",
    "- 문제의 정답은 1, 2, 3, 4, 5중 하나입니다.\n",
    "- 가장 높은 점수를 받은 사람이 여럿일 경우, return하는 값을 오름차순 정렬해주세요."
   ]
  },
  {
   "cell_type": "markdown",
   "metadata": {},
   "source": [
    "처음엔 다음과 같이 풀었는데 78점을 받았다ㅠㅠ "
   ]
  },
  {
   "cell_type": "code",
   "execution_count": 1,
   "metadata": {},
   "outputs": [],
   "source": [
    "import collections as c\n",
    "\n",
    "def solution(answers):\n",
    "    person = {\n",
    "        'p1' : {\n",
    "            'ans' : [1, 2, 3, 4, 5],\n",
    "            'score' : 0,\n",
    "        },\n",
    "        'p2' : {\n",
    "            'ans' : [2, 1, 2, 3, 2, 4, 2, 5],\n",
    "            'score' : 0,\n",
    "        },\n",
    "        'p3' : {\n",
    "            'ans' : [3, 3, 1, 1, 2, 2, 4, 4, 5, 5],\n",
    "            'score' : 0,\n",
    "        },\n",
    "    }\n",
    "    \n",
    "    for p in person.values():\n",
    "        tmp = {}\n",
    "        if len(p['ans']) <= len(answers):\n",
    "            for idx in range(len(p['ans'])):\n",
    "                tmp = dict(c.Counter(answers[i] for i in range(len(answers)) if i % len(p['ans']) == idx))\n",
    "                if tmp.get(p['ans'][idx]): \n",
    "                    p['score'] += tmp.get(p['ans'][idx])\n",
    "        else:\n",
    "            for idx in range(len(answers)):\n",
    "                tmp = dict(c.Counter(p['ans'][i] for i in range(len(p['ans'])) if i % len(answers) == idx))\n",
    "                if tmp.get(answers[idx]):\n",
    "                    p['score'] += tmp.get(answers[idx])\n",
    "    \n",
    "    score = [p['score'] for p in person.values()]\n",
    "    answer = [i+1 for i, x in enumerate(score) if x == max(score)]\n",
    "    \n",
    "    return answer\n",
    "                                      "
   ]
  },
  {
   "cell_type": "code",
   "execution_count": 2,
   "metadata": {},
   "outputs": [
    {
     "data": {
      "text/plain": [
       "[1]"
      ]
     },
     "execution_count": 2,
     "metadata": {},
     "output_type": "execute_result"
    }
   ],
   "source": [
    "solution([1,2,3,4,5,2,2,3,4,5,1,2,3,4,5,1,2,3,4,5])    # return [1]\n",
    "solution([1,3,2,4,2])    # return [1,2,3]\n",
    "solution([1,2,3,4,5])    # return [1]"
   ]
  },
  {
   "cell_type": "markdown",
   "metadata": {},
   "source": [
    "다른 풀이를 보니, 컨셉은 같은데 enumerate를 활용해서 매우 간단하게 풀었다.\n",
    "풀이를 참고해서 다시 풀어보았다."
   ]
  },
  {
   "cell_type": "code",
   "execution_count": 3,
   "metadata": {},
   "outputs": [],
   "source": [
    "def solution(answers):\n",
    "    p = [[1, 2, 3, 4, 5],\n",
    "         [2, 1, 2, 3, 2, 4, 2, 5],\n",
    "         [3, 3, 1, 1, 2, 2, 4, 4, 5, 5]]\n",
    "    score = [0] * len(p)\n",
    "    \n",
    "    for q, a in enumerate(answers):\n",
    "        for i, v in enumerate(p):\n",
    "            if a == v[q % len(v)]:\n",
    "                score[i] += 1\n",
    "\n",
    "    return [i + 1 for i, v in enumerate(score) if v == max(score)]\n",
    "    "
   ]
  },
  {
   "cell_type": "code",
   "execution_count": 4,
   "metadata": {},
   "outputs": [
    {
     "data": {
      "text/plain": [
       "[1]"
      ]
     },
     "execution_count": 4,
     "metadata": {},
     "output_type": "execute_result"
    }
   ],
   "source": [
    "solution([1,2,3,4,5])    # return [1]"
   ]
  },
  {
   "cell_type": "markdown",
   "metadata": {},
   "source": [
    "**따라서 반복 가능한 객체를 사용해야 하는데 인덱스정보가 필요하다면 enumerate를 사용해야 한다.**\n",
    "\n",
    "분류 : 완전탐색"
   ]
  }
 ],
 "metadata": {
  "kernelspec": {
   "display_name": "Python 3",
   "language": "python",
   "name": "python3"
  },
  "language_info": {
   "codemirror_mode": {
    "name": "ipython",
    "version": 3
   },
   "file_extension": ".py",
   "mimetype": "text/x-python",
   "name": "python",
   "nbconvert_exporter": "python",
   "pygments_lexer": "ipython3",
   "version": "3.6.7"
  }
 },
 "nbformat": 4,
 "nbformat_minor": 2
}
