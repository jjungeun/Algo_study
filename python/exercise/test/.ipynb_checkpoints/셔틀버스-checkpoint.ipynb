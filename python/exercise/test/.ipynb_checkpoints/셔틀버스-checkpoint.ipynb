{
 "cells": [
  {
   "cell_type": "code",
   "execution_count": 82,
   "metadata": {},
   "outputs": [],
   "source": [
    "def solution(n, t, m, timetable):\n",
    "    answer = ''\n",
    "    now = 540\n",
    "    times = []\n",
    "    last = 0\n",
    "    total = 0\n",
    "    people = 0\n",
    "    \n",
    "    for table in timetable:\n",
    "        times.append(int(table.split(':')[0]) * 60 + int(table.split(':')[1]))\n",
    "    times = sorted(times)\n",
    "    print(times)\n",
    "    \n",
    "    for i in range(n):\n",
    "        people = 0\n",
    "        now += i * t\n",
    "        print('now: ',now)\n",
    "        for time in times:\n",
    "            if time <= now and people <= m:\n",
    "                last = time\n",
    "                people += 1\n",
    "            else:\n",
    "                break\n",
    "        total += people\n",
    "    print(total)\n",
    "    print(last)\n",
    "    \n",
    "    \n",
    "    return answer"
   ]
  },
  {
   "cell_type": "code",
   "execution_count": 83,
   "metadata": {},
   "outputs": [
    {
     "name": "stdout",
     "output_type": "stream",
     "text": [
      "[480, 481, 482, 483]\n",
      "now:  540\n",
      "4\n",
      "483\n"
     ]
    },
    {
     "data": {
      "text/plain": [
       "''"
      ]
     },
     "execution_count": 83,
     "metadata": {},
     "output_type": "execute_result"
    }
   ],
   "source": [
    "solution(1,1,5,[\"08:00\", \"08:01\", \"08:02\", \"08:03\"])"
   ]
  },
  {
   "cell_type": "code",
   "execution_count": 84,
   "metadata": {},
   "outputs": [
    {
     "name": "stdout",
     "output_type": "stream",
     "text": [
      "[480, 549, 550]\n",
      "now:  540\n",
      "now:  550\n",
      "4\n",
      "550\n"
     ]
    },
    {
     "data": {
      "text/plain": [
       "''"
      ]
     },
     "execution_count": 84,
     "metadata": {},
     "output_type": "execute_result"
    }
   ],
   "source": [
    "solution(2,10,2,[\"09:10\", \"09:09\", \"08:00\"])"
   ]
  },
  {
   "cell_type": "code",
   "execution_count": 85,
   "metadata": {},
   "outputs": [
    {
     "name": "stdout",
     "output_type": "stream",
     "text": [
      "[540, 540, 540, 540]\n",
      "now:  540\n",
      "now:  541\n",
      "6\n",
      "540\n"
     ]
    },
    {
     "data": {
      "text/plain": [
       "''"
      ]
     },
     "execution_count": 85,
     "metadata": {},
     "output_type": "execute_result"
    }
   ],
   "source": [
    "solution(2,1,2,[\"09:00\", \"09:00\", \"09:00\", \"09:00\"])"
   ]
  },
  {
   "cell_type": "code",
   "execution_count": 86,
   "metadata": {},
   "outputs": [
    {
     "name": "stdout",
     "output_type": "stream",
     "text": [
      "[1, 1, 1, 1, 1]\n",
      "now:  540\n",
      "5\n",
      "1\n"
     ]
    },
    {
     "data": {
      "text/plain": [
       "''"
      ]
     },
     "execution_count": 86,
     "metadata": {},
     "output_type": "execute_result"
    }
   ],
   "source": [
    "solution(1,1,5,[\"00:01\", \"00:01\", \"00:01\", \"00:01\", \"00:01\"])"
   ]
  },
  {
   "cell_type": "code",
   "execution_count": 87,
   "metadata": {},
   "outputs": [
    {
     "name": "stdout",
     "output_type": "stream",
     "text": [
      "[1439]\n",
      "now:  540\n",
      "0\n",
      "0\n"
     ]
    },
    {
     "data": {
      "text/plain": [
       "''"
      ]
     },
     "execution_count": 87,
     "metadata": {},
     "output_type": "execute_result"
    }
   ],
   "source": [
    "solution(1,1,1,[\"23:59\"])"
   ]
  },
  {
   "cell_type": "code",
   "execution_count": 88,
   "metadata": {},
   "outputs": [
    {
     "name": "stdout",
     "output_type": "stream",
     "text": [
      "[1439, 1439, 1439, 1439, 1439, 1439]\n",
      "now:  540\n",
      "now:  600\n",
      "now:  720\n",
      "now:  900\n",
      "now:  1140\n",
      "now:  1440\n",
      "now:  1800\n",
      "now:  2220\n",
      "now:  2700\n",
      "now:  3240\n",
      "30\n",
      "1439\n"
     ]
    },
    {
     "data": {
      "text/plain": [
       "''"
      ]
     },
     "execution_count": 88,
     "metadata": {},
     "output_type": "execute_result"
    }
   ],
   "source": [
    "solution(10,60,45,[\"23:59\",\"23:59\",\"23:59\",\"23:59\",\"23:59\",\"23:59\"])"
   ]
  }
 ],
 "metadata": {
  "kernelspec": {
   "display_name": "Python 3",
   "language": "python",
   "name": "python3"
  },
  "language_info": {
   "codemirror_mode": {
    "name": "ipython",
    "version": 3
   },
   "file_extension": ".py",
   "mimetype": "text/x-python",
   "name": "python",
   "nbconvert_exporter": "python",
   "pygments_lexer": "ipython3",
   "version": "3.6.8"
  }
 },
 "nbformat": 4,
 "nbformat_minor": 2
}
