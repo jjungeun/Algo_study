{
 "cells": [
  {
   "cell_type": "code",
   "execution_count": 1,
   "metadata": {},
   "outputs": [],
   "source": [
    "def solution(records):\n",
    "    answer = []\n",
    "    user = {}\n",
    "    chat = []\n",
    "    \n",
    "    for record in records:\n",
    "        r = record.split()\n",
    "        if r[0] == 'Enter':\n",
    "            user[r[1]] = r[2]\n",
    "            answer.append(r[1]+' 들어왔습니다.')\n",
    "        elif r[0] == 'Change':\n",
    "            user[r[1]] = r[2]\n",
    "        else:\n",
    "            answer.append(r[1]+' 나갔습니다.')\n",
    "    \n",
    "    for ans in answer:\n",
    "        a = ans.split()\n",
    "        chat.append(user.get(a[0])+'님이 '+a[1])\n",
    "    return chat"
   ]
  },
  {
   "cell_type": "code",
   "execution_count": 2,
   "metadata": {},
   "outputs": [
    {
     "data": {
      "text/plain": [
       "['Prodo님이 들어왔습니다.', 'Ryan님이 들어왔습니다.', 'Prodo님이 나갔습니다.', 'Prodo님이 들어왔습니다.']"
      ]
     },
     "execution_count": 2,
     "metadata": {},
     "output_type": "execute_result"
    }
   ],
   "source": [
    "solution([\"Enter uid1234 Muzi\", \"Enter uid4567 Prodo\",\"Leave uid1234\",\"Enter uid1234 Prodo\",\"Change uid4567 Ryan\"])"
   ]
  }
 ],
 "metadata": {
  "kernelspec": {
   "display_name": "Python 3",
   "language": "python",
   "name": "python3"
  },
  "language_info": {
   "codemirror_mode": {
    "name": "ipython",
    "version": 3
   },
   "file_extension": ".py",
   "mimetype": "text/x-python",
   "name": "python",
   "nbconvert_exporter": "python",
   "pygments_lexer": "ipython3",
   "version": "3.6.8"
  }
 },
 "nbformat": 4,
 "nbformat_minor": 2
}
