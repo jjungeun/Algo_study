{
 "cells": [
  {
   "cell_type": "code",
   "execution_count": 1,
   "metadata": {},
   "outputs": [],
   "source": [
    "from itertools import combinations\n",
    "\n",
    "def isCandidate(idx, relation):\n",
    "    tmp = list(tuple([r[i] for i in idx]) for r in relation)\n",
    "    if len(set(tmp)) == len(relation):\n",
    "        return True\n",
    "    return False\n",
    "\n",
    "def solution(relation):\n",
    "    answer = []\n",
    "    col_count = len(relation[0])\n",
    "    cols = range(col_count)\n",
    "    \n",
    "    for i in range(1,col_count+1):\n",
    "        com = combinations(cols,i)\n",
    "        for i in list(com):\n",
    "            if isCandidate(i, relation):\n",
    "                answer.append(set(i))\n",
    "\n",
    "    for c in answer[:]:\n",
    "        for i in answer[:]:\n",
    "            if c != i and c.difference(i) == set():\n",
    "                answer.remove(i)\n",
    "\n",
    "    return len(answer)"
   ]
  },
  {
   "cell_type": "code",
   "execution_count": 2,
   "metadata": {},
   "outputs": [
    {
     "data": {
      "text/plain": [
       "2"
      ]
     },
     "execution_count": 2,
     "metadata": {},
     "output_type": "execute_result"
    }
   ],
   "source": [
    "solution([\n",
    "        [\"100\",\"ryan\",\"music\",\"2\"],\n",
    "        [\"200\",\"apeach\",\"math\",\"2\"],\n",
    "        [\"300\",\"tube\",\"computer\",\"3\"],\n",
    "        [\"400\",\"con\",\"computer\",\"4\"],\n",
    "        [\"500\",\"muzi\",\"music\",\"3\"],\n",
    "        [\"600\",\"apeach\",\"music\",\"2\"]\n",
    "    ])"
   ]
  }
 ],
 "metadata": {
  "kernelspec": {
   "display_name": "Python 3",
   "language": "python",
   "name": "python3"
  },
  "language_info": {
   "codemirror_mode": {
    "name": "ipython",
    "version": 3
   },
   "file_extension": ".py",
   "mimetype": "text/x-python",
   "name": "python",
   "nbconvert_exporter": "python",
   "pygments_lexer": "ipython3",
   "version": "3.6.8"
  }
 },
 "nbformat": 4,
 "nbformat_minor": 2
}
