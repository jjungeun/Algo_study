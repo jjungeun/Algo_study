{
 "cells": [
  {
   "cell_type": "markdown",
   "metadata": {},
   "source": [
    "첫번째로 푼 방법은 나쁘지 않았지만 효율성이 좋지 않았다. 아마 done리스트에 넣는 작업때문인 것 같다."
   ]
  },
  {
   "cell_type": "code",
   "execution_count": 1,
   "metadata": {},
   "outputs": [],
   "source": [
    "def solution(food_times, k):\n",
    "    done = []\n",
    "    order = 0\n",
    "    \n",
    "    for time in range(k):\n",
    "        if order in done:\n",
    "            for i in range(1,len(food_times)):\n",
    "                index = (order+i) % len(food_times)\n",
    "                if index not in done:\n",
    "                    order = index\n",
    "                    break\n",
    "\n",
    "        food_times[order] -= 1\n",
    "        \n",
    "        if food_times[order] == 0:\n",
    "            done.append(order)\n",
    "            \n",
    "        if len(done) == len(food_times):\n",
    "            return -1\n",
    "        \n",
    "        order = (order+1) % len(food_times)\n",
    "\n",
    "    return order + 1"
   ]
  },
  {
   "cell_type": "markdown",
   "metadata": {},
   "source": [
    "done을 숫자로 바꿔도 효율성이 좋지 않았다."
   ]
  },
  {
   "cell_type": "code",
   "execution_count": 2,
   "metadata": {},
   "outputs": [],
   "source": [
    "def solution(food_times, k):\n",
    "    done = 0\n",
    "    order = 0\n",
    "    total = len(food_times)\n",
    "    \n",
    "    for time in range(k):\n",
    "        if food_times[order] == 0:\n",
    "            for i in range(1,total):\n",
    "                index = (order+i) % total\n",
    "                if food_times[index] != 0:\n",
    "                    order = index\n",
    "                    break\n",
    "                    \n",
    "        food_times[order] -= 1\n",
    "        if food_times[order] == 0:\n",
    "            done += 1\n",
    "        if done == total:\n",
    "            return -1\n",
    "        \n",
    "        order = (order+1) % total\n",
    "        \n",
    "    return order + 1"
   ]
  },
  {
   "cell_type": "markdown",
   "metadata": {},
   "source": [
    "마지막으로 아예 생각을 바꿔서 k를 가지고 계산을 해봤다."
   ]
  },
  {
   "cell_type": "code",
   "execution_count": 3,
   "metadata": {},
   "outputs": [],
   "source": [
    "def solution(food_times, k):\n",
    "    total = len(food_times)\n",
    "    food = {}\n",
    "    cy = 0\n",
    "    final = []\n",
    "    \n",
    "    if sum(food_times) <= k:\n",
    "        return -1\n",
    "    \n",
    "    for i, v in enumerate(food_times):\n",
    "        if food.get(v) == None:\n",
    "            food[v] = [i]\n",
    "        else:\n",
    "            food[v] += [i]\n",
    "    foods = sorted(food.items())\n",
    "\n",
    "    for f in foods:\n",
    "        if k - (f[0]-cy) * total < 0:\n",
    "            break\n",
    "        k = k - (f[0]-cy) * total\n",
    "        cy = f[0]\n",
    "        total = total - len(f[1])\n",
    "    \n",
    "    for f in food:\n",
    "        if f > cy:\n",
    "            final += food.get(f)\n",
    "    final = sorted(final)\n",
    "    \n",
    "    return final[k%len(final)] + 1"
   ]
  },
  {
   "cell_type": "code",
   "execution_count": 4,
   "metadata": {},
   "outputs": [
    {
     "data": {
      "text/plain": [
       "1"
      ]
     },
     "execution_count": 4,
     "metadata": {},
     "output_type": "execute_result"
    }
   ],
   "source": [
    "solution([3,1,2],5)"
   ]
  },
  {
   "cell_type": "code",
   "execution_count": 5,
   "metadata": {},
   "outputs": [
    {
     "data": {
      "text/plain": [
       "6"
      ]
     },
     "execution_count": 5,
     "metadata": {},
     "output_type": "execute_result"
    }
   ],
   "source": [
    "solution([3,1,1,1,2,4,3],12)"
   ]
  },
  {
   "cell_type": "code",
   "execution_count": 6,
   "metadata": {},
   "outputs": [
    {
     "data": {
      "text/plain": [
       "1"
      ]
     },
     "execution_count": 6,
     "metadata": {},
     "output_type": "execute_result"
    }
   ],
   "source": [
    "solution([3],1)"
   ]
  }
 ],
 "metadata": {
  "kernelspec": {
   "display_name": "Python 3",
   "language": "python",
   "name": "python3"
  },
  "language_info": {
   "codemirror_mode": {
    "name": "ipython",
    "version": 3
   },
   "file_extension": ".py",
   "mimetype": "text/x-python",
   "name": "python",
   "nbconvert_exporter": "python",
   "pygments_lexer": "ipython3",
   "version": "3.6.8"
  }
 },
 "nbformat": 4,
 "nbformat_minor": 2
}
