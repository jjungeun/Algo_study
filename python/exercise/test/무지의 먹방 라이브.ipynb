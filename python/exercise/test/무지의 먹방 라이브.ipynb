{
 "cells": [
  {
   "cell_type": "markdown",
   "metadata": {},
   "source": [
    "첫번째로 푼 방법은 나쁘지 않았지만 효율성이 좋지 않았다. 아마 done리스트에 넣는 작업때문인 것 같다."
   ]
  },
  {
   "cell_type": "code",
   "execution_count": 54,
   "metadata": {},
   "outputs": [],
   "source": [
    "def solution(food_times, k):\n",
    "    done = []\n",
    "    order = 0\n",
    "    \n",
    "    for time in range(k):\n",
    "        if order in done:\n",
    "            for i in range(1,len(food_times)):\n",
    "                index = (order+i) % len(food_times)\n",
    "                if index not in done:\n",
    "                    order = index\n",
    "                    break\n",
    "\n",
    "        food_times[order] -= 1\n",
    "        \n",
    "        if food_times[order] == 0:\n",
    "            done.append(order)\n",
    "            \n",
    "        if len(done) == len(food_times):\n",
    "            return -1\n",
    "        \n",
    "        order = (order+1) % len(food_times)\n",
    "\n",
    "    return order + 1"
   ]
  },
  {
   "cell_type": "markdown",
   "metadata": {},
   "source": [
    "done을 숫자로 바꿔도 효율성이 좋지 않았다."
   ]
  },
  {
   "cell_type": "code",
   "execution_count": 56,
   "metadata": {},
   "outputs": [],
   "source": [
    "def solution(food_times, k):\n",
    "    done = 0\n",
    "    order = 0\n",
    "    total = len(food_times)\n",
    "    \n",
    "    for time in range(k):\n",
    "        if food_times[order] == 0:\n",
    "            for i in range(1,total):\n",
    "                index = (order+i) % total\n",
    "                if food_times[index] != 0:\n",
    "                    order = index\n",
    "                    break\n",
    "                    \n",
    "        food_times[order] -= 1\n",
    "        if food_times[order] == 0:\n",
    "            done += 1\n",
    "        if done == total:\n",
    "            return -1\n",
    "        \n",
    "        order = (order+1) % total\n",
    "        \n",
    "    return order + 1"
   ]
  },
  {
   "cell_type": "markdown",
   "metadata": {},
   "source": [
    "마지막으로 아예 생각을 바꿔서 k를 가지고 계산을 해봤다."
   ]
  },
  {
   "cell_type": "code",
   "execution_count": 143,
   "metadata": {},
   "outputs": [],
   "source": [
    "def solution(food_times, k):\n",
    "    total = len(food_times)\n",
    "    food = {}\n",
    "    doing = True\n",
    "    cy = 0\n",
    "    for i, v in enumerate(food_times):\n",
    "        if food.get(v) == None:\n",
    "            food[v] = [i]\n",
    "        else:\n",
    "            food[v] += [i]\n",
    "    food = sorted(food.items())\n",
    "    print(food)\n",
    "    while doing:\n",
    "        k = k - (food[0][0]-cy) * total\n",
    "        if k <= 0:\n",
    "            break\n",
    "        cy += food[0][0]\n",
    "        total = total - len(food[0][1])\n",
    "        food.pop(0)\n",
    "    print(food)"
   ]
  },
  {
   "cell_type": "code",
   "execution_count": 144,
   "metadata": {},
   "outputs": [
    {
     "name": "stdout",
     "output_type": "stream",
     "text": [
      "[(1, [1]), (2, [2]), (3, [0])]\n",
      "[(2, [2]), (3, [0])]\n"
     ]
    }
   ],
   "source": [
    "solution([3,1,2],5)"
   ]
  },
  {
   "cell_type": "code",
   "execution_count": 145,
   "metadata": {},
   "outputs": [
    {
     "name": "stdout",
     "output_type": "stream",
     "text": [
      "[(1, [1, 2, 3]), (2, [4]), (3, [0, 5])]\n"
     ]
    },
    {
     "ename": "IndexError",
     "evalue": "list index out of range",
     "output_type": "error",
     "traceback": [
      "\u001b[1;31m---------------------------------------------------------------------------\u001b[0m",
      "\u001b[1;31mIndexError\u001b[0m                                Traceback (most recent call last)",
      "\u001b[1;32m<ipython-input-145-fbca0a846028>\u001b[0m in \u001b[0;36m<module>\u001b[1;34m\u001b[0m\n\u001b[1;32m----> 1\u001b[1;33m \u001b[0msolution\u001b[0m\u001b[1;33m(\u001b[0m\u001b[1;33m[\u001b[0m\u001b[1;36m3\u001b[0m\u001b[1;33m,\u001b[0m\u001b[1;36m1\u001b[0m\u001b[1;33m,\u001b[0m\u001b[1;36m1\u001b[0m\u001b[1;33m,\u001b[0m\u001b[1;36m1\u001b[0m\u001b[1;33m,\u001b[0m\u001b[1;36m2\u001b[0m\u001b[1;33m,\u001b[0m\u001b[1;36m3\u001b[0m\u001b[1;33m]\u001b[0m\u001b[1;33m,\u001b[0m\u001b[1;36m10\u001b[0m\u001b[1;33m)\u001b[0m\u001b[1;33m\u001b[0m\u001b[1;33m\u001b[0m\u001b[0m\n\u001b[0m",
      "\u001b[1;32m<ipython-input-143-408f0f181ffd>\u001b[0m in \u001b[0;36msolution\u001b[1;34m(food_times, k)\u001b[0m\n\u001b[0;32m     12\u001b[0m     \u001b[0mprint\u001b[0m\u001b[1;33m(\u001b[0m\u001b[0mfood\u001b[0m\u001b[1;33m)\u001b[0m\u001b[1;33m\u001b[0m\u001b[1;33m\u001b[0m\u001b[0m\n\u001b[0;32m     13\u001b[0m     \u001b[1;32mwhile\u001b[0m \u001b[0mdoing\u001b[0m\u001b[1;33m:\u001b[0m\u001b[1;33m\u001b[0m\u001b[1;33m\u001b[0m\u001b[0m\n\u001b[1;32m---> 14\u001b[1;33m         \u001b[0mk\u001b[0m \u001b[1;33m=\u001b[0m \u001b[0mk\u001b[0m \u001b[1;33m-\u001b[0m \u001b[1;33m(\u001b[0m\u001b[0mfood\u001b[0m\u001b[1;33m[\u001b[0m\u001b[1;36m0\u001b[0m\u001b[1;33m]\u001b[0m\u001b[1;33m[\u001b[0m\u001b[1;36m0\u001b[0m\u001b[1;33m]\u001b[0m\u001b[1;33m-\u001b[0m\u001b[0mcy\u001b[0m\u001b[1;33m)\u001b[0m \u001b[1;33m*\u001b[0m \u001b[0mtotal\u001b[0m\u001b[1;33m\u001b[0m\u001b[1;33m\u001b[0m\u001b[0m\n\u001b[0m\u001b[0;32m     15\u001b[0m         \u001b[1;32mif\u001b[0m \u001b[0mk\u001b[0m \u001b[1;33m<=\u001b[0m \u001b[1;36m0\u001b[0m\u001b[1;33m:\u001b[0m\u001b[1;33m\u001b[0m\u001b[1;33m\u001b[0m\u001b[0m\n\u001b[0;32m     16\u001b[0m             \u001b[1;32mbreak\u001b[0m\u001b[1;33m\u001b[0m\u001b[1;33m\u001b[0m\u001b[0m\n",
      "\u001b[1;31mIndexError\u001b[0m: list index out of range"
     ]
    }
   ],
   "source": [
    "solution([3,1,1,1,2,3],10)"
   ]
  },
  {
   "cell_type": "code",
   "execution_count": 133,
   "metadata": {},
   "outputs": [
    {
     "name": "stdout",
     "output_type": "stream",
     "text": [
      "(3, [0])\n",
      "[]\n"
     ]
    }
   ],
   "source": [
    "solution([3],1)"
   ]
  }
 ],
 "metadata": {
  "kernelspec": {
   "display_name": "Python 3",
   "language": "python",
   "name": "python3"
  },
  "language_info": {
   "codemirror_mode": {
    "name": "ipython",
    "version": 3
   },
   "file_extension": ".py",
   "mimetype": "text/x-python",
   "name": "python",
   "nbconvert_exporter": "python",
   "pygments_lexer": "ipython3",
   "version": "3.7.3"
  }
 },
 "nbformat": 4,
 "nbformat_minor": 2
}
