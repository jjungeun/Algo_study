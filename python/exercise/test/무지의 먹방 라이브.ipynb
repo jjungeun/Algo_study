{
 "cells": [
  {
   "cell_type": "markdown",
   "metadata": {},
   "source": [
    "첫번째로 푼 방법은 나쁘지 않았지만 효율성이 좋지 않았다. 아마 done리스트에 넣는 작업때문인 것 같다."
   ]
  },
  {
   "cell_type": "code",
   "execution_count": 54,
   "metadata": {},
   "outputs": [],
   "source": [
    "def solution(food_times, k):\n",
    "    done = []\n",
    "    order = 0\n",
    "    \n",
    "    for time in range(k):\n",
    "        if order in done:\n",
    "            for i in range(1,len(food_times)):\n",
    "                index = (order+i) % len(food_times)\n",
    "                if index not in done:\n",
    "                    order = index\n",
    "                    break\n",
    "\n",
    "        food_times[order] -= 1\n",
    "        \n",
    "        if food_times[order] == 0:\n",
    "            done.append(order)\n",
    "            \n",
    "        if len(done) == len(food_times):\n",
    "            return -1\n",
    "        \n",
    "        order = (order+1) % len(food_times)\n",
    "\n",
    "    return order + 1"
   ]
  },
  {
   "cell_type": "markdown",
   "metadata": {},
   "source": [
    "done을 숫자로 바꿔도 효율성이 좋지 않았다."
   ]
  },
  {
   "cell_type": "code",
   "execution_count": 56,
   "metadata": {},
   "outputs": [],
   "source": [
    "def solution(food_times, k):\n",
    "    done = 0\n",
    "    order = 0\n",
    "    total = len(food_times)\n",
    "    \n",
    "    for time in range(k):\n",
    "        if food_times[order] == 0:\n",
    "            for i in range(1,total):\n",
    "                index = (order+i) % total\n",
    "                if food_times[index] != 0:\n",
    "                    order = index\n",
    "                    break\n",
    "                    \n",
    "        food_times[order] -= 1\n",
    "        if food_times[order] == 0:\n",
    "            done += 1\n",
    "        if done == total:\n",
    "            return -1\n",
    "        \n",
    "        order = (order+1) % total\n",
    "        \n",
    "    return order + 1"
   ]
  },
  {
   "cell_type": "markdown",
   "metadata": {},
   "source": [
    "마지막으로 아예 생각을 바꿔서 for문을 도는게 아니라 k를 가지고 계산을 해봤다."
   ]
  },
  {
   "cell_type": "code",
   "execution_count": 85,
   "metadata": {},
   "outputs": [],
   "source": [
    "def solution(food_times, k):\n",
    "    total = len(food_times)\n",
    "    done = 0\n",
    "    if sum(food_times) <= k:\n",
    "        return -1\n",
    "    \n",
    "    cy = k // total + 1\n",
    "    order = k % total\n",
    "    for i,v in enumerate(food_times):\n",
    "        if i <= order:\n",
    "            done = cy - v\n",
    "        else:\n",
    "            done = cy - v - 1\n",
    "        \n",
    "        if done > 0:\n",
    "            order = (order+done) % total\n",
    "    return order + 1"
   ]
  },
  {
   "cell_type": "code",
   "execution_count": 100,
   "metadata": {},
   "outputs": [
    {
     "data": {
      "text/plain": [
       "1"
      ]
     },
     "execution_count": 100,
     "metadata": {},
     "output_type": "execute_result"
    }
   ],
   "source": [
    "solution([3,1,2],3)"
   ]
  },
  {
   "cell_type": "code",
   "execution_count": 98,
   "metadata": {},
   "outputs": [
    {
     "data": {
      "text/plain": [
       "3"
      ]
     },
     "execution_count": 98,
     "metadata": {},
     "output_type": "execute_result"
    }
   ],
   "source": [
    "solution([3,3,3],8)"
   ]
  }
 ],
 "metadata": {
  "kernelspec": {
   "display_name": "Python 3",
   "language": "python",
   "name": "python3"
  },
  "language_info": {
   "codemirror_mode": {
    "name": "ipython",
    "version": 3
   },
   "file_extension": ".py",
   "mimetype": "text/x-python",
   "name": "python",
   "nbconvert_exporter": "python",
   "pygments_lexer": "ipython3",
   "version": "3.6.8"
  }
 },
 "nbformat": 4,
 "nbformat_minor": 2
}
