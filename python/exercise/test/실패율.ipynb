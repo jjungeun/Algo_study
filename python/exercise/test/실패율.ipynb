{
 "cells": [
  {
   "cell_type": "markdown",
   "metadata": {},
   "source": [
    "아래 방법은 효율성 생각하지 않고 그냥 푼 방법"
   ]
  },
  {
   "cell_type": "code",
   "execution_count": 1,
   "metadata": {},
   "outputs": [],
   "source": [
    "def solution(N, stages):\n",
    "    answer = {}\n",
    "    for n in range(1,N+1):\n",
    "        fail = 0\n",
    "        total = 0\n",
    "        for stage in stages:\n",
    "            if stage < n:\n",
    "                continue\n",
    "            elif stage == n:\n",
    "                fail += 1\n",
    "            total += 1\n",
    "        answer.update({n:fail/total})\n",
    "    \n",
    "    answer = sorted(answer.items(), key=lambda x:x[1], reverse=True)\n",
    "    \n",
    "    return [i[0] for i in answer]"
   ]
  },
  {
   "cell_type": "markdown",
   "metadata": {},
   "source": [
    "두번쨰 방법은 처음에 sort를 하고 푸는 방법 - 몇가지 케이스에서 효율성 탈락"
   ]
  },
  {
   "cell_type": "code",
   "execution_count": 2,
   "metadata": {},
   "outputs": [],
   "source": [
    "def solution(N, stages):\n",
    "    stages = sorted(stages)\n",
    "    answer = {}\n",
    "    for n in range(1,N+1):\n",
    "        fail = 0\n",
    "        for stage in stages:\n",
    "            if stage > n:\n",
    "                break\n",
    "            fail += 1\n",
    "        answer.update({n:fail/len(stages)})\n",
    "        stages = stages[fail:]\n",
    "    \n",
    "    return sorted(answer, key=answer.get, reverse=True)"
   ]
  },
  {
   "cell_type": "markdown",
   "metadata": {},
   "source": [
    "마지막 방법은 stages를 dict로 해놓고 푸는 방법"
   ]
  },
  {
   "cell_type": "code",
   "execution_count": 3,
   "metadata": {},
   "outputs": [],
   "source": [
    "from collections import Counter\n",
    "\n",
    "def solution(N, stages):\n",
    "    value = Counter(stages)\n",
    "    total = len(stages)\n",
    "    answer = {}\n",
    "    hard = []\n",
    "    \n",
    "    for n in range(1, N+1):\n",
    "        if total == 0:\n",
    "            hard += [i for i in range(n,N+1)]\n",
    "            break\n",
    "        fail = value.get(n)\n",
    "        if fail == None:\n",
    "            fail = 0\n",
    "        answer.update({n:fail/total})\n",
    "        total = total - fail\n",
    "\n",
    "    return sorted(answer, key=answer.get, reverse=True) + hard"
   ]
  },
  {
   "cell_type": "code",
   "execution_count": 4,
   "metadata": {},
   "outputs": [
    {
     "data": {
      "text/plain": [
       "[3, 4, 2, 1, 5]"
      ]
     },
     "execution_count": 4,
     "metadata": {},
     "output_type": "execute_result"
    }
   ],
   "source": [
    "solution(5,[2, 1, 2, 6, 2, 4, 3, 3])"
   ]
  },
  {
   "cell_type": "code",
   "execution_count": 5,
   "metadata": {},
   "outputs": [
    {
     "data": {
      "text/plain": [
       "[4, 1, 2, 3]"
      ]
     },
     "execution_count": 5,
     "metadata": {},
     "output_type": "execute_result"
    }
   ],
   "source": [
    "solution(4,[4,4,4,4,4])"
   ]
  }
 ],
 "metadata": {
  "kernelspec": {
   "display_name": "Python 3",
   "language": "python",
   "name": "python3"
  },
  "language_info": {
   "codemirror_mode": {
    "name": "ipython",
    "version": 3
   },
   "file_extension": ".py",
   "mimetype": "text/x-python",
   "name": "python",
   "nbconvert_exporter": "python",
   "pygments_lexer": "ipython3",
   "version": "3.6.8"
  }
 },
 "nbformat": 4,
 "nbformat_minor": 2
}
