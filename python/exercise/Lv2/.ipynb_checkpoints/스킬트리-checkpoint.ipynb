{
 "cells": [
  {
   "cell_type": "markdown",
   "metadata": {},
   "source": [
    "1. 스킬을 배울때는 선행 스킬이 존재,  선행 스킬을 먼저 배워야 뒤에 있는 스킬을 사용할 수 있습니다.\n",
    "\n",
    "2. 선행 스킬이 없는 스킬은 자유롭게 배울 수 있습니다. \n",
    "\n",
    "3. 스킬을 배우는 순서가 주어졌을 때, 여러 스킬 트리 중 가능한 스킬트리의 개수를 출력합니다."
   ]
  },
  {
   "cell_type": "markdown",
   "metadata": {},
   "source": [
    "처음에는 이렇게 풀었는데 21점이 나왔다. 이유는 \"DCB\"인 경우 통과하지 않아야 하는데 이 코드로 하면 통과가 된다."
   ]
  },
  {
   "cell_type": "code",
   "execution_count": 1,
   "metadata": {},
   "outputs": [],
   "source": [
    "def solution(skill, skill_trees):\n",
    "    answer = 0\n",
    "    \n",
    "    for skills in skill_trees:\n",
    "        idx = 0\n",
    "        for s in skills:\n",
    "            if skill[idx] == s:\n",
    "                idx += 1\n",
    "                if idx == len(skill):\n",
    "                    break\n",
    "        \n",
    "        if idx > 1:\n",
    "            answer += 1\n",
    "            \n",
    "    \n",
    "    return answer"
   ]
  },
  {
   "cell_type": "code",
   "execution_count": 2,
   "metadata": {},
   "outputs": [
    {
     "data": {
      "text/plain": [
       "3"
      ]
     },
     "execution_count": 2,
     "metadata": {},
     "output_type": "execute_result"
    }
   ],
   "source": [
    "solution(\"CBD\",[\"BACDE\", \"CBADF\", \"AECB\", \"BDA\",\"DCB\"])"
   ]
  },
  {
   "cell_type": "markdown",
   "metadata": {},
   "source": [
    "그래서 아예 처음에 스킬에 포함되지 않는 것은 다 엎애서 풀어보았다."
   ]
  },
  {
   "cell_type": "code",
   "execution_count": 3,
   "metadata": {},
   "outputs": [],
   "source": [
    "def solution(skill, skill_trees):\n",
    "    answer = 0\n",
    "    \n",
    "    for st in skill_trees:\n",
    "        tmp = \"\"\n",
    "        answer += 1\n",
    "        \n",
    "        for s in st:\n",
    "            if s in skill:\n",
    "                tmp += s\n",
    "        \n",
    "        \n",
    "        for i in range(len(tmp)):\n",
    "            if skill[i] != tmp[i]:\n",
    "                answer -=1\n",
    "                break\n",
    "\n",
    "    return answer"
   ]
  },
  {
   "cell_type": "code",
   "execution_count": 4,
   "metadata": {},
   "outputs": [
    {
     "data": {
      "text/plain": [
       "2"
      ]
     },
     "execution_count": 4,
     "metadata": {},
     "output_type": "execute_result"
    }
   ],
   "source": [
    "solution(\"CBD\",[\"BACDE\", \"CBADF\", \"AECB\", \"BDA\",\"DCB\"])"
   ]
  }
 ],
 "metadata": {
  "kernelspec": {
   "display_name": "Python 3",
   "language": "python",
   "name": "python3"
  },
  "language_info": {
   "codemirror_mode": {
    "name": "ipython",
    "version": 3
   },
   "file_extension": ".py",
   "mimetype": "text/x-python",
   "name": "python",
   "nbconvert_exporter": "python",
   "pygments_lexer": "ipython3",
   "version": "3.6.7"
  }
 },
 "nbformat": 4,
 "nbformat_minor": 2
}
