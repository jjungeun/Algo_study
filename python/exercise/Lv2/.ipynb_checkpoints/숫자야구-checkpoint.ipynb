{
 "cells": [
  {
   "cell_type": "markdown",
   "metadata": {},
   "source": [
    "숫자 야구 게임이란 2명이 서로가 생각한 숫자를 맞추는 게임입니다.\n",
    "\n",
    "각자 서로 다른 1~9까지 3자리 임의의 숫자를 정한 뒤 서로에게 3자리의 숫자를 불러서 결과를 확인합니다. 그리고 그 결과를 토대로 상대가 정한 숫자를 예상한 뒤 맞힙니다.\n",
    "\n",
    "제한사항\n",
    "- 질문의 수는 1 이상 100 이하의 자연수입니다.\n",
    "- baseball의 각 행은 [세 자리의 수, 스트라이크의 수, 볼의 수] 를 담고 있습니다."
   ]
  },
  {
   "cell_type": "markdown",
   "metadata": {},
   "source": [
    "풀기 난감한 문제였다. 가능한 가짓수에서 아닌 가짓수를 빼는 방법은 너무 복잡해서 우선 스트라이크가 많은 순으로 정렬을 하고 맞지 않는 것을 없애고 부합하는 가짓수를 곱하는 방법으로 풀었다."
   ]
  },
  {
   "cell_type": "code",
   "execution_count": 1,
   "metadata": {},
   "outputs": [],
   "source": [
    "def solution(baseball):\n",
    "    answer = 1\n",
    "    prev = []\n",
    "    baseball = sorted(baseball, key=lambda b: b[1], reverse=True)\n",
    "    print(baseball)\n",
    "    \n",
    "    for b in baseball:\n",
    "        curr = []\n",
    "        if b[1] == 3:\n",
    "            return answer\n",
    "        elif b[1] == 2:\n",
    "            for i in str(b[0]):\n",
    "                curr.append(str(b[0]).replace(i,'0'))\n",
    "        elif b[1] == 1:\n",
    "            for i in str(b[0]):\n",
    "                tmp = [j if i==j else '0' for j in str(b[0])]\n",
    "                curr.append(''.join(tmp))\n",
    "\n",
    "        if b[2] == 3:\n",
    "            pass\n",
    "        elif b[2] == 2:\n",
    "            pass\n",
    "        elif b[2] == 1:\n",
    "            for i in str(b[0]):\n",
    "                tmp = [j if i==j else '0' for j in str(b[0])]\n",
    "                \n",
    "        print(curr)\n",
    "\n",
    "        prev = curr\n",
    "            \n",
    "    return answer"
   ]
  },
  {
   "cell_type": "code",
   "execution_count": 2,
   "metadata": {},
   "outputs": [
    {
     "name": "stdout",
     "output_type": "stream",
     "text": [
      "[[327, 2, 0], [123, 1, 1], [356, 1, 0], [489, 0, 1]]\n",
      "['027', '307', '320']\n",
      "['100', '020', '003']\n",
      "['300', '050', '006']\n",
      "[]\n"
     ]
    },
    {
     "data": {
      "text/plain": [
       "1"
      ]
     },
     "execution_count": 2,
     "metadata": {},
     "output_type": "execute_result"
    }
   ],
   "source": [
    "solution([[123, 1, 1], [356, 1, 0], [327, 2, 0], [489, 0, 1]])"
   ]
  },
  {
   "cell_type": "markdown",
   "metadata": {},
   "source": [
    "풀던 중 python의 permutations모듈을 사용하는게 좋을 것 같아 풀이 방법을 바꿨다.\n",
    "\n",
    "**숫자의 중복을 허용하지 않으므로 총 경우의 수가 크지 않다 -> 완전탐색으로 풀어야 겠다는 생각!**\n",
    "\n",
    "point1. 123에서 987의 모든 경우를 answer 리스트에 넣어놓고 baseball 리스트의 요소만큼 검색을 한다.\n",
    "\n",
    "point2. set(집합)을 사용한다. ball의 경우, 같은 숫자가 얼만큼 있는지에서 strike개수를 빼면 된다."
   ]
  },
  {
   "cell_type": "code",
   "execution_count": 3,
   "metadata": {},
   "outputs": [],
   "source": [
    "from itertools import permutations\n",
    "\n",
    "def is_checked(question, candidate, s, b):\n",
    "    strike = 0\n",
    "    for i in range(3):\n",
    "        if question[i] == candidate[i]:\n",
    "            strike += 1\n",
    "    if s != strike:\n",
    "        return False\n",
    "\n",
    "    ball = len(set(question) & set(candidate)) - strike\n",
    "    if b != ball:\n",
    "        return False\n",
    "    \n",
    "    return True\n",
    "\n",
    "def solution(baseball):\n",
    "    num = [i for i in range(1,10)]\n",
    "    answer = list(permutations(num,3))\n",
    "    \n",
    "    for b in baseball:\n",
    "        for item in answer[:]:\n",
    "            tmp = [int(i) for i in list(str(b[0]))]\n",
    "            if not is_checked(tmp, item, b[1], b[2]):\n",
    "                answer.remove(item)\n",
    "                \n",
    "    return len(answer)"
   ]
  },
  {
   "cell_type": "code",
   "execution_count": 4,
   "metadata": {},
   "outputs": [
    {
     "data": {
      "text/plain": [
       "2"
      ]
     },
     "execution_count": 4,
     "metadata": {},
     "output_type": "execute_result"
    }
   ],
   "source": [
    "solution([[123, 1, 1], [356, 1, 0], [327, 2, 0], [489, 0, 1]])"
   ]
  }
 ],
 "metadata": {
  "kernelspec": {
   "display_name": "Python 3",
   "language": "python",
   "name": "python3"
  },
  "language_info": {
   "codemirror_mode": {
    "name": "ipython",
    "version": 3
   },
   "file_extension": ".py",
   "mimetype": "text/x-python",
   "name": "python",
   "nbconvert_exporter": "python",
   "pygments_lexer": "ipython3",
   "version": "3.6.8"
  }
 },
 "nbformat": 4,
 "nbformat_minor": 2
}
