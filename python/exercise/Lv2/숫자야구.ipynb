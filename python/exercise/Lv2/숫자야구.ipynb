{
 "cells": [
  {
   "cell_type": "markdown",
   "metadata": {},
   "source": [
    "숫자 야구 게임이란 2명이 서로가 생각한 숫자를 맞추는 게임입니다.\n",
    "\n",
    "각자 서로 다른 1~9까지 3자리 임의의 숫자를 정한 뒤 서로에게 3자리의 숫자를 불러서 결과를 확인합니다. 그리고 그 결과를 토대로 상대가 정한 숫자를 예상한 뒤 맞힙니다.\n",
    "\n",
    "제한사항\n",
    "- 질문의 수는 1 이상 100 이하의 자연수입니다.\n",
    "- baseball의 각 행은 [세 자리의 수, 스트라이크의 수, 볼의 수] 를 담고 있습니다."
   ]
  },
  {
   "cell_type": "markdown",
   "metadata": {},
   "source": [
    "풀기 난감한 문제였다. 가능한 가짓수에서 아닌 가짓수를 빼는 방법은 너무 복잡해서 우선 스트라이크가 많은 순으로 정렬을 하고 맞지 않는 것을 없애고 부합하는 가짓수를 곱하는 방법으로 풀었다."
   ]
  },
  {
   "cell_type": "code",
   "execution_count": null,
   "metadata": {},
   "outputs": [],
   "source": [
    "def solution(baseball):\n",
    "    answer = 1\n",
    "    prev = []\n",
    "    baseball = sorted(baseball, key=lambda b: b[1], reverse=True)\n",
    "    print(baseball)\n",
    "    for b in baseball:\n",
    "        curr = []\n",
    "        if b[1] == 3:\n",
    "            return answer\n",
    "        elif b[1] == 2:\n",
    "            for i in str(b[0]):\n",
    "                curr.append(str(b[0]).replace(i,'0'))\n",
    "        elif b[1] == 1:\n",
    "            for i in str(b[0]):\n",
    "                tmp = [j if i==j else '0' for j in str(b[0])]\n",
    "                curr.append(''.join(tmp))\n",
    "        \n",
    "        if b[2] == 3:\n",
    "            pass\n",
    "        elif b[2] == 2:\n",
    "            pass\n",
    "        elif b[2] == 1:\n",
    "            pass\n",
    "                \n",
    "        answer *= len(curr)\n",
    "        prev = curr\n",
    "            \n",
    "    return answer"
   ]
  },
  {
   "cell_type": "code",
   "execution_count": null,
   "metadata": {},
   "outputs": [],
   "source": []
  },
  {
   "cell_type": "code",
   "execution_count": null,
   "metadata": {},
   "outputs": [],
   "source": []
  }
 ],
 "metadata": {
  "kernelspec": {
   "display_name": "Python 3",
   "language": "python",
   "name": "python3"
  },
  "language_info": {
   "codemirror_mode": {
    "name": "ipython",
    "version": 3
   },
   "file_extension": ".py",
   "mimetype": "text/x-python",
   "name": "python",
   "nbconvert_exporter": "python",
   "pygments_lexer": "ipython3",
   "version": "3.7.3"
  }
 },
 "nbformat": 4,
 "nbformat_minor": 2
}
