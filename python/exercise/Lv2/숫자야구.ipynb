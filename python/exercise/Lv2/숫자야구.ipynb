{
 "cells": [
  {
   "cell_type": "markdown",
   "metadata": {},
   "source": [
    "숫자 야구 게임이란 2명이 서로가 생각한 숫자를 맞추는 게임입니다.\n",
    "\n",
    "각자 서로 다른 1~9까지 3자리 임의의 숫자를 정한 뒤 서로에게 3자리의 숫자를 불러서 결과를 확인합니다. 그리고 그 결과를 토대로 상대가 정한 숫자를 예상한 뒤 맞힙니다.\n",
    "\n",
    "제한사항\n",
    "- 질문의 수는 1 이상 100 이하의 자연수입니다.\n",
    "- baseball의 각 행은 [세 자리의 수, 스트라이크의 수, 볼의 수] 를 담고 있습니다."
   ]
  },
  {
   "cell_type": "code",
   "execution_count": 20,
   "metadata": {},
   "outputs": [],
   "source": [
    "from itertools import permutations\n",
    "def solution(baseball):\n",
    "    answer = []\n",
    "    number = [str(i) for i in range(1,10)]\n",
    "\n",
    "    for b in baseball:\n",
    "        if b[1] == 0:\n",
    "            if b[2] == 0:\n",
    "                number = [n for n in number if n not in [i for i in str(b[0])]]    # p\n",
    "                print(answer)\n",
    "            else:\n",
    "                nols = [i for i in str(b[0])]\n",
    "                tmp = [i for i in str(b[0]) if i in number] #nb\n",
    "                print(tmp)\n",
    "                print(list(permutations(tmp,b[2])))\n",
    "        else:\n",
    "            if b[2] == 0:\n",
    "                pass    #ns\n",
    "            else:\n",
    "                pass    #nsnb\n",
    "        \n",
    "    return len(answer)"
   ]
  },
  {
   "cell_type": "code",
   "execution_count": 21,
   "metadata": {},
   "outputs": [
    {
     "name": "stdout",
     "output_type": "stream",
     "text": [
      "[]\n",
      "['8', '9']\n",
      "[('8',), ('9',)]\n"
     ]
    },
    {
     "data": {
      "text/plain": [
       "0"
      ]
     },
     "execution_count": 21,
     "metadata": {},
     "output_type": "execute_result"
    }
   ],
   "source": [
    "solution([[124,0,0], [489, 0, 1]])"
   ]
  },
  {
   "cell_type": "code",
   "execution_count": 11,
   "metadata": {},
   "outputs": [
    {
     "name": "stdout",
     "output_type": "stream",
     "text": [
      "['4', '8', '9']\n"
     ]
    },
    {
     "data": {
      "text/plain": [
       "0"
      ]
     },
     "execution_count": 11,
     "metadata": {},
     "output_type": "execute_result"
    }
   ],
   "source": [
    "solution([[123, 1, 1], [356, 1, 0], [327, 2, 0], [489, 0, 1]])"
   ]
  },
  {
   "cell_type": "code",
   "execution_count": null,
   "metadata": {},
   "outputs": [],
   "source": []
  }
 ],
 "metadata": {
  "kernelspec": {
   "display_name": "Python 3",
   "language": "python",
   "name": "python3"
  },
  "language_info": {
   "codemirror_mode": {
    "name": "ipython",
    "version": 3
   },
   "file_extension": ".py",
   "mimetype": "text/x-python",
   "name": "python",
   "nbconvert_exporter": "python",
   "pygments_lexer": "ipython3",
   "version": "3.6.8"
  }
 },
 "nbformat": 4,
 "nbformat_minor": 2
}
