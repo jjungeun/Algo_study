{
 "cells": [
  {
   "cell_type": "code",
   "execution_count": null,
   "metadata": {},
   "outputs": [],
   "source": [
    "def solution(words, queries):\n",
    "    answer = {}\n",
    "    result = []\n",
    "    for q in queries:\n",
    "        if q in answer:\n",
    "            result.append(answer[q])\n",
    "            continue\n",
    "        ans = 0\n",
    "        pre = None\n",
    "        query = q.split('?')\n",
    "        if query[0] != '':\n",
    "            query = query[0]\n",
    "            pre = True\n",
    "        elif query[-1] != '':\n",
    "            query = query[-1]\n",
    "            pre = False\n",
    "        length = len(query)\n",
    "        \n",
    "        for w in words:\n",
    "            if len(w) == len(q):\n",
    "                if pre == None:\n",
    "                    ans += 1\n",
    "                elif pre == True:\n",
    "                    if w[:length] == query:\n",
    "                        ans += 1\n",
    "                else:\n",
    "                    if w[-length:] == query:\n",
    "                        ans += 1\n",
    "        answer[q] = ans\n",
    "        result.append(ans)\n",
    "    return result"
   ]
  },
  {
   "cell_type": "code",
   "execution_count": null,
   "metadata": {},
   "outputs": [],
   "source": [
    "def solution(words, queries):\n",
    "    answer = {}\n",
    "    result = []\n",
    "    for q in queries:\n",
    "        if q in answer:\n",
    "            result.append(answer[q])\n",
    "            continue\n",
    "        ans = 0\n",
    "        query = ''\n",
    "        pre = None\n",
    "        if q.split('?',1)[0] != '':\n",
    "            query = q.split('?',1)[0]\n",
    "            pre = True\n",
    "        elif q.rpartition('?')[-1] != '':\n",
    "            query = q.rpartition('?')[-1]\n",
    "            pre = False\n",
    "        length = len(query)\n",
    "\n",
    "        for w in words:\n",
    "            if len(w) == len(q):\n",
    "                if pre == None:\n",
    "                    ans += 1\n",
    "                elif pre == True:\n",
    "                    if w[:length] == query:\n",
    "                        ans += 1\n",
    "                else:\n",
    "                    if w[-length:] == query:\n",
    "                        ans += 1\n",
    "        answer[q] = ans\n",
    "        result.append(ans)\n",
    "    return result"
   ]
  },
  {
   "cell_type": "code",
   "execution_count": null,
   "metadata": {},
   "outputs": [],
   "source": [
    "solution([\"frodo\", \"front\", \"frost\", \"frozen\", \"frame\", \"kakao\"],\n",
    "        [\"fro??\", \"?????\",\"????o\", \"fr???\", \"fro???\", \"pro?\"])"
   ]
  },
  {
   "cell_type": "code",
   "execution_count": null,
   "metadata": {},
   "outputs": [],
   "source": []
  }
 ],
 "metadata": {
  "kernelspec": {
   "display_name": "Python 3",
   "language": "python",
   "name": "python3"
  },
  "language_info": {
   "codemirror_mode": {
    "name": "ipython",
    "version": 3
   },
   "file_extension": ".py",
   "mimetype": "text/x-python",
   "name": "python",
   "nbconvert_exporter": "python",
   "pygments_lexer": "ipython3",
   "version": "3.7.3"
  }
 },
 "nbformat": 4,
 "nbformat_minor": 2
}
