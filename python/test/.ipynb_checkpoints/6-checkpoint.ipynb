{
 "cells": [
  {
   "cell_type": "code",
   "execution_count": 124,
   "metadata": {},
   "outputs": [],
   "source": [
    "def solution(n, weak, dist):\n",
    "    answer = 0\n",
    "    d = {}\n",
    "    dist = sorted(dist,reverse = True)\n",
    "    for i,w in enumerate(weak):\n",
    "        now = i\n",
    "        next = (i+1) % len(weak)\n",
    "        bet = weak[next] - weak[now]\n",
    "        if bet < 0:\n",
    "            bet += n\n",
    "        d[(now,next)] = bet\n",
    "\n",
    "    if sum(d.values()) - max(d.values()) > sum(dist):\n",
    "        return -1\n",
    "    print(d)\n",
    "    turn = min(d, key=lambda k: d[k])\n",
    "    \n",
    "    return answer"
   ]
  },
  {
   "cell_type": "code",
   "execution_count": 125,
   "metadata": {},
   "outputs": [
    {
     "name": "stdout",
     "output_type": "stream",
     "text": [
      "{(0, 1): 4, (1, 2): 1, (2, 3): 4, (3, 0): 3}\n",
      "(1, 2)\n"
     ]
    },
    {
     "data": {
      "text/plain": [
       "0"
      ]
     },
     "execution_count": 125,
     "metadata": {},
     "output_type": "execute_result"
    }
   ],
   "source": [
    "solution(12,[1,5,6,10],[1,2,3,4])"
   ]
  },
  {
   "cell_type": "code",
   "execution_count": 126,
   "metadata": {},
   "outputs": [
    {
     "name": "stdout",
     "output_type": "stream",
     "text": [
      "{(0, 1): 2, (1, 2): 1, (2, 3): 5, (3, 4): 1, (4, 0): 3}\n",
      "(1, 2)\n"
     ]
    },
    {
     "data": {
      "text/plain": [
       "0"
      ]
     },
     "execution_count": 126,
     "metadata": {},
     "output_type": "execute_result"
    }
   ],
   "source": [
    "solution(12,[1,3,4,9,10],[3,5,7])"
   ]
  },
  {
   "cell_type": "code",
   "execution_count": 60,
   "metadata": {},
   "outputs": [
    {
     "data": {
      "text/plain": [
       "-1"
      ]
     },
     "execution_count": 60,
     "metadata": {},
     "output_type": "execute_result"
    }
   ],
   "source": [
    "solution(12,[1,3,4],[2])"
   ]
  }
 ],
 "metadata": {
  "kernelspec": {
   "display_name": "Python 3",
   "language": "python",
   "name": "python3"
  },
  "language_info": {
   "codemirror_mode": {
    "name": "ipython",
    "version": 3
   },
   "file_extension": ".py",
   "mimetype": "text/x-python",
   "name": "python",
   "nbconvert_exporter": "python",
   "pygments_lexer": "ipython3",
   "version": "3.7.3"
  }
 },
 "nbformat": 4,
 "nbformat_minor": 2
}
