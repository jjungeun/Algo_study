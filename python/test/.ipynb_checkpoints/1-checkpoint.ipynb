{
 "cells": [
  {
   "cell_type": "code",
   "execution_count": 71,
   "metadata": {},
   "outputs": [],
   "source": [
    "def strzip(ls):\n",
    "    count = 0\n",
    "    n = ''\n",
    "    ans = ''\n",
    "    for i in ls:\n",
    "        if n != i:\n",
    "            n = i\n",
    "            if count > 1:\n",
    "                ans += str(count)\n",
    "            ans += i\n",
    "            count = 1\n",
    "        else:\n",
    "            count += 1\n",
    "    if count > 1:\n",
    "        ans += str(count)\n",
    "    return ans\n",
    "\n",
    "def solution(s):\n",
    "    answer = len(s)\n",
    "    fac = [i for i in range(1,len(s)+1)]\n",
    "    for length in fac:\n",
    "        tmp = [s[i:i+length] for i in range(0, len(s), length)]\n",
    "        ans = strzip(tmp)\n",
    "        if len(ans) < answer:\n",
    "            answer = len(ans)\n",
    "    return answer"
   ]
  },
  {
   "cell_type": "code",
   "execution_count": 72,
   "metadata": {},
   "outputs": [
    {
     "name": "stdout",
     "output_type": "stream",
     "text": [
      "[1, 2, 3, 4, 5, 6, 7, 8]\n",
      "['a', 'a', 'b', 'b', 'a', 'c', 'c', 'c']\n",
      "a2b2ac3\n",
      "['aa', 'bb', 'ac', 'cc']\n",
      "aabbaccc\n",
      "['aab', 'bac', 'cc']\n",
      "aabbaccc\n",
      "['aabb', 'accc']\n",
      "aabbaccc\n",
      "['aabba', 'ccc']\n",
      "aabbaccc\n",
      "['aabbac', 'cc']\n",
      "aabbaccc\n",
      "['aabbacc', 'c']\n",
      "aabbaccc\n",
      "['aabbaccc']\n",
      "aabbaccc\n"
     ]
    },
    {
     "data": {
      "text/plain": [
       "7"
      ]
     },
     "execution_count": 72,
     "metadata": {},
     "output_type": "execute_result"
    }
   ],
   "source": [
    "solution(\"aabbaccc\")"
   ]
  },
  {
   "cell_type": "code",
   "execution_count": 74,
   "metadata": {},
   "outputs": [
    {
     "name": "stdout",
     "output_type": "stream",
     "text": [
      "[1, 2, 3, 4, 5, 6, 7, 8, 9, 10, 11, 12, 13, 14, 15, 16]\n",
      "['a', 'b', 'a', 'b', 'c', 'd', 'c', 'd', 'a', 'b', 'a', 'b', 'c', 'd', 'c', 'd']\n",
      "ababcdcdababcdcd\n",
      "['ab', 'ab', 'cd', 'cd', 'ab', 'ab', 'cd', 'cd']\n",
      "ab2cd2ab2cd2\n",
      "['aba', 'bcd', 'cda', 'bab', 'cdc', 'd']\n",
      "ababcdcdababcdcd\n",
      "['abab', 'cdcd', 'abab', 'cdcd']\n",
      "ababcdcdababcdcd\n",
      "['ababc', 'dcdab', 'abcdc', 'd']\n",
      "ababcdcdababcdcd\n",
      "['ababcd', 'cdabab', 'cdcd']\n",
      "ababcdcdababcdcd\n",
      "['ababcdc', 'dababcd', 'cd']\n",
      "ababcdcdababcdcd\n",
      "['ababcdcd', 'ababcdcd']\n",
      "ababcdcd2\n",
      "['ababcdcda', 'babcdcd']\n",
      "ababcdcdababcdcd\n",
      "['ababcdcdab', 'abcdcd']\n",
      "ababcdcdababcdcd\n",
      "['ababcdcdaba', 'bcdcd']\n",
      "ababcdcdababcdcd\n",
      "['ababcdcdabab', 'cdcd']\n",
      "ababcdcdababcdcd\n",
      "['ababcdcdababc', 'dcd']\n",
      "ababcdcdababcdcd\n",
      "['ababcdcdababcd', 'cd']\n",
      "ababcdcdababcdcd\n",
      "['ababcdcdababcdc', 'd']\n",
      "ababcdcdababcdcd\n",
      "['ababcdcdababcdcd']\n",
      "ababcdcdababcdcd\n"
     ]
    },
    {
     "data": {
      "text/plain": [
       "9"
      ]
     },
     "execution_count": 74,
     "metadata": {},
     "output_type": "execute_result"
    }
   ],
   "source": [
    "solution(\"ababcdcdababcdcd\")"
   ]
  },
  {
   "cell_type": "code",
   "execution_count": 73,
   "metadata": {},
   "outputs": [
    {
     "name": "stdout",
     "output_type": "stream",
     "text": [
      "[1, 2, 3, 4, 5, 6, 7, 8, 9, 10]\n",
      "['a', 'b', 'c', 'a', 'b', 'c', 'd', 'e', 'd', 'e']\n",
      "abcabcdede\n",
      "['ab', 'ca', 'bc', 'de', 'de']\n",
      "abcabcde2\n",
      "['abc', 'abc', 'ded', 'e']\n",
      "abc2dede\n",
      "['abca', 'bcde', 'de']\n",
      "abcabcdede\n",
      "['abcab', 'cdede']\n",
      "abcabcdede\n",
      "['abcabc', 'dede']\n",
      "abcabcdede\n",
      "['abcabcd', 'ede']\n",
      "abcabcdede\n",
      "['abcabcde', 'de']\n",
      "abcabcdede\n",
      "['abcabcded', 'e']\n",
      "abcabcdede\n",
      "['abcabcdede']\n",
      "abcabcdede\n"
     ]
    },
    {
     "data": {
      "text/plain": [
       "8"
      ]
     },
     "execution_count": 73,
     "metadata": {},
     "output_type": "execute_result"
    }
   ],
   "source": [
    "solution(\"abcabcdede\")"
   ]
  },
  {
   "cell_type": "code",
   "execution_count": 75,
   "metadata": {},
   "outputs": [
    {
     "name": "stdout",
     "output_type": "stream",
     "text": [
      "[1, 2, 3, 4, 5, 6, 7, 8, 9, 10, 11, 12, 13, 14, 15, 16, 17, 18, 19, 20, 21, 22, 23, 24]\n",
      "['a', 'b', 'c', 'a', 'b', 'c', 'a', 'b', 'c', 'a', 'b', 'c', 'd', 'e', 'd', 'e', 'd', 'e', 'd', 'e', 'd', 'e', 'd', 'e']\n",
      "abcabcabcabcdededededede\n",
      "['ab', 'ca', 'bc', 'ab', 'ca', 'bc', 'de', 'de', 'de', 'de', 'de', 'de']\n",
      "abcabcabcabcde6\n",
      "['abc', 'abc', 'abc', 'abc', 'ded', 'ede', 'ded', 'ede']\n",
      "abc4dededededede\n",
      "['abca', 'bcab', 'cabc', 'dede', 'dede', 'dede']\n",
      "abcabcabcabcdede3\n",
      "['abcab', 'cabca', 'bcded', 'edede', 'dede']\n",
      "abcabcabcabcdededededede\n",
      "['abcabc', 'abcabc', 'dedede', 'dedede']\n",
      "abcabc2dedede2\n",
      "['abcabca', 'bcabcde', 'dededed', 'ede']\n",
      "abcabcabcabcdededededede\n",
      "['abcabcab', 'cabcdede', 'dededede']\n",
      "abcabcabcabcdededededede\n",
      "['abcabcabc', 'abcdedede', 'dedede']\n",
      "abcabcabcabcdededededede\n",
      "['abcabcabca', 'bcdededede', 'dede']\n",
      "abcabcabcabcdededededede\n",
      "['abcabcabcab', 'cdedededede', 'de']\n",
      "abcabcabcabcdededededede\n",
      "['abcabcabcabc', 'dededededede']\n",
      "abcabcabcabcdededededede\n",
      "['abcabcabcabcd', 'ededededede']\n",
      "abcabcabcabcdededededede\n",
      "['abcabcabcabcde', 'dedededede']\n",
      "abcabcabcabcdededededede\n",
      "['abcabcabcabcded', 'edededede']\n",
      "abcabcabcabcdededededede\n",
      "['abcabcabcabcdede', 'dededede']\n",
      "abcabcabcabcdededededede\n",
      "['abcabcabcabcdeded', 'ededede']\n",
      "abcabcabcabcdededededede\n",
      "['abcabcabcabcdedede', 'dedede']\n",
      "abcabcabcabcdededededede\n",
      "['abcabcabcabcdededed', 'edede']\n",
      "abcabcabcabcdededededede\n",
      "['abcabcabcabcdededede', 'dede']\n",
      "abcabcabcabcdededededede\n",
      "['abcabcabcabcdedededed', 'ede']\n",
      "abcabcabcabcdededededede\n",
      "['abcabcabcabcdedededede', 'de']\n",
      "abcabcabcabcdededededede\n",
      "['abcabcabcabcdededededed', 'e']\n",
      "abcabcabcabcdededededede\n",
      "['abcabcabcabcdededededede']\n",
      "abcabcabcabcdededededede\n"
     ]
    },
    {
     "data": {
      "text/plain": [
       "14"
      ]
     },
     "execution_count": 75,
     "metadata": {},
     "output_type": "execute_result"
    }
   ],
   "source": [
    "solution(\"abcabcabcabcdededededede\")"
   ]
  },
  {
   "cell_type": "code",
   "execution_count": 64,
   "metadata": {},
   "outputs": [
    {
     "name": "stdout",
     "output_type": "stream",
     "text": [
      "xababcdcdababcdcd\n",
      "xababcdcdababcdcd\n"
     ]
    },
    {
     "data": {
      "text/plain": [
       "17"
      ]
     },
     "execution_count": 64,
     "metadata": {},
     "output_type": "execute_result"
    }
   ],
   "source": [
    "solution(\"xababcdcdababcdcd\")"
   ]
  },
  {
   "cell_type": "code",
   "execution_count": null,
   "metadata": {},
   "outputs": [],
   "source": []
  }
 ],
 "metadata": {
  "kernelspec": {
   "display_name": "Python 3",
   "language": "python",
   "name": "python3"
  },
  "language_info": {
   "codemirror_mode": {
    "name": "ipython",
    "version": 3
   },
   "file_extension": ".py",
   "mimetype": "text/x-python",
   "name": "python",
   "nbconvert_exporter": "python",
   "pygments_lexer": "ipython3",
   "version": "3.7.3"
  }
 },
 "nbformat": 4,
 "nbformat_minor": 2
}
