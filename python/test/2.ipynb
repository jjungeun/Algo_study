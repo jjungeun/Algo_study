{
 "cells": [
  {
   "cell_type": "code",
   "execution_count": 87,
   "metadata": {},
   "outputs": [],
   "source": [
    "def arrange(string):\n",
    "    tmp = string[1:-1]\n",
    "    ans = ''\n",
    "    for t in tmp:\n",
    "        if t =='(':\n",
    "            ans += ')'\n",
    "        else:\n",
    "            ans += '('\n",
    "    return ans\n",
    "\n",
    "def solution(p):\n",
    "    u = ''\n",
    "    v = ''\n",
    "    o = 0\n",
    "    c = 0\n",
    "    if p == '':\n",
    "        return ''\n",
    "    \n",
    "    for i,j in enumerate(p):\n",
    "        if j == '(':\n",
    "            o += 1\n",
    "        else:\n",
    "            c += 1\n",
    "        \n",
    "        if o == c:\n",
    "            u = p[:i+1]\n",
    "            v = p[i+1:]\n",
    "            break\n",
    "    print(u,v)\n",
    "    if u[0] == '(':\n",
    "        return u + solution(v)\n",
    "    else:\n",
    "        return '(' + solution(v) + ')' + arrange(u) "
   ]
  },
  {
   "cell_type": "code",
   "execution_count": 88,
   "metadata": {},
   "outputs": [
    {
     "name": "stdout",
     "output_type": "stream",
     "text": [
      "))())((( \n"
     ]
    },
    {
     "data": {
      "text/plain": [
       "'()()(())'"
      ]
     },
     "execution_count": 88,
     "metadata": {},
     "output_type": "execute_result"
    }
   ],
   "source": [
    "solution(\"))())(((\")"
   ]
  },
  {
   "cell_type": "code",
   "execution_count": 81,
   "metadata": {},
   "outputs": [
    {
     "name": "stdout",
     "output_type": "stream",
     "text": [
      "() ))((()\n",
      "))(( ()\n",
      "() \n"
     ]
    },
    {
     "data": {
      "text/plain": [
       "'()(())()'"
      ]
     },
     "execution_count": 81,
     "metadata": {},
     "output_type": "execute_result"
    }
   ],
   "source": [
    "solution(\"()))((()\")"
   ]
  },
  {
   "cell_type": "code",
   "execution_count": 82,
   "metadata": {
    "scrolled": true
   },
   "outputs": [
    {
     "name": "stdout",
     "output_type": "stream",
     "text": [
      "(()()) ()\n",
      "() \n"
     ]
    },
    {
     "data": {
      "text/plain": [
       "'(()())()'"
      ]
     },
     "execution_count": 82,
     "metadata": {},
     "output_type": "execute_result"
    }
   ],
   "source": [
    "solution(\"(()())()\")"
   ]
  },
  {
   "cell_type": "code",
   "execution_count": 83,
   "metadata": {},
   "outputs": [
    {
     "name": "stdout",
     "output_type": "stream",
     "text": [
      "))(( \n"
     ]
    },
    {
     "data": {
      "text/plain": [
       "'(())'"
      ]
     },
     "execution_count": 83,
     "metadata": {},
     "output_type": "execute_result"
    }
   ],
   "source": [
    "solution(\"))((\")"
   ]
  },
  {
   "cell_type": "code",
   "execution_count": 84,
   "metadata": {},
   "outputs": [
    {
     "name": "stdout",
     "output_type": "stream",
     "text": [
      ")( \n"
     ]
    },
    {
     "data": {
      "text/plain": [
       "'()'"
      ]
     },
     "execution_count": 84,
     "metadata": {},
     "output_type": "execute_result"
    }
   ],
   "source": [
    "solution(\")(\")"
   ]
  },
  {
   "cell_type": "code",
   "execution_count": 85,
   "metadata": {},
   "outputs": [
    {
     "name": "stdout",
     "output_type": "stream",
     "text": [
      "))(( ())(\n",
      "() )(\n",
      ")( \n"
     ]
    },
    {
     "data": {
      "text/plain": [
       "'(())()()'"
      ]
     },
     "execution_count": 85,
     "metadata": {},
     "output_type": "execute_result"
    }
   ],
   "source": [
    "solution(\"))((())(\")"
   ]
  },
  {
   "cell_type": "code",
   "execution_count": 86,
   "metadata": {},
   "outputs": [
    {
     "name": "stdout",
     "output_type": "stream",
     "text": [
      "() )(\n",
      ")( \n"
     ]
    },
    {
     "data": {
      "text/plain": [
       "'()()'"
      ]
     },
     "execution_count": 86,
     "metadata": {},
     "output_type": "execute_result"
    }
   ],
   "source": [
    "solution(\"())(\")"
   ]
  },
  {
   "cell_type": "code",
   "execution_count": 74,
   "metadata": {},
   "outputs": [
    {
     "data": {
      "text/plain": [
       "'()()()'"
      ]
     },
     "execution_count": 74,
     "metadata": {},
     "output_type": "execute_result"
    }
   ],
   "source": [
    "solution(\"())(()\")"
   ]
  },
  {
   "cell_type": "code",
   "execution_count": 75,
   "metadata": {},
   "outputs": [
    {
     "data": {
      "text/plain": [
       "'()(())()'"
      ]
     },
     "execution_count": 75,
     "metadata": {},
     "output_type": "execute_result"
    }
   ],
   "source": [
    "solution(\"()(())()\")"
   ]
  }
 ],
 "metadata": {
  "kernelspec": {
   "display_name": "Python 3",
   "language": "python",
   "name": "python3"
  },
  "language_info": {
   "codemirror_mode": {
    "name": "ipython",
    "version": 3
   },
   "file_extension": ".py",
   "mimetype": "text/x-python",
   "name": "python",
   "nbconvert_exporter": "python",
   "pygments_lexer": "ipython3",
   "version": "3.7.3"
  }
 },
 "nbformat": 4,
 "nbformat_minor": 2
}
