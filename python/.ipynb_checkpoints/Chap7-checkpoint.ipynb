{
 "cells": [
  {
   "cell_type": "markdown",
   "metadata": {},
   "source": [
    "# 다익스트라 알고리즘\n",
    "\n",
    "\n",
    "그래프의 간선에 가중치를 준 가중 그래프(weighted graph)를 공부한다.\n",
    "\n",
    "가중 그래프에서 x까지의 최단 경로를 구하는 다익스트라 알고리즘을 배운다.\n",
    "\n",
    "그래프에 싸이클이 있는 경우엔 다익스트라 알고리즘을 쓸 수 없다는 것을 배운다."
   ]
  },
  {
   "cell_type": "markdown",
   "metadata": {},
   "source": [
    "**너비 우선 탐색은 가장 적은 구간을 가지는 경로를 찾는다. -> 균일그래프에서 사용**\n",
    "\n",
    "**반면 다익스트라 알고리즘은 가중치의 합이 가장 적은 경로를 찾는다. -> 가중그래프에서 사용**"
   ]
  },
  {
   "cell_type": "markdown",
   "metadata": {},
   "source": [
    "다익스트라 알고리즘의 단계\n",
    "- 출발점에서 가장 가중치가 적은 정점을 찾는다.\n",
    "- 이 정점의 이웃 정점에 대해 현재보다 더 적은가중치의 경로가 있는지 확인하고, 있다면 최단경로를 수정한다.\n",
    "- 그래프 상의 모든 정점에 대해 이러한 일을 반복한다.\n",
    "- 최종 경로를 계산한다."
   ]
  },
  {
   "cell_type": "markdown",
   "metadata": {},
   "source": [
    "사실 무방향 그래프는 두 정점이 서로를 향하고 있는 것을 뜻한다. 즉 싸이클이다.\n",
    "\n",
    "따라서 다익스트라 알고리즘은 방향그래프에서만 사용할 수 있다."
   ]
  },
  {
   "cell_type": "markdown",
   "metadata": {},
   "source": [
    "##### 간선의 가중치가 음수인 경우 : 다익스트라 알고리즘을 사용할 수 없다. 벨만-포드 알고리즘을 사용해야 한다."
   ]
  },
  {
   "cell_type": "markdown",
   "metadata": {},
   "source": [
    "### 구현"
   ]
  },
  {
   "cell_type": "markdown",
   "metadata": {},
   "source": [
    "* 출발점 -> A : 6\n",
    "* 출발점 -> B : 2\n",
    "* B -> A : 3\n",
    "* A -> 도착점 : 1\n",
    "* B -> 도착점 : 5"
   ]
  },
  {
   "cell_type": "markdown",
   "metadata": {},
   "source": [
    "이를 위해선 3개의 해시 테이블이 필요하다.\n",
    "\n",
    "1. 그래프의 정보가 담긴 해시 테이블\n",
    "2. 가격 해시테이블\n",
    "3. 부모 해시테이블\n",
    "\n",
    "가격과 부모 해시테이블은 알고리즘을 실행하면서 갱신하게 된다."
   ]
  },
  {
   "cell_type": "code",
   "execution_count": 1,
   "metadata": {},
   "outputs": [],
   "source": [
    "# 그래프 해시 테이블\n",
    "graph = {\n",
    "    'start' : {\n",
    "        'a' : 6,\n",
    "        'b' : 2,\n",
    "    },\n",
    "    'a' : {\n",
    "        'end' : 1,\n",
    "    },\n",
    "    'b' : {\n",
    "        'a' : 1,\n",
    "        'end' : 5\n",
    "    },\n",
    "    'end' : {},\n",
    "}"
   ]
  },
  {
   "cell_type": "code",
   "execution_count": 2,
   "metadata": {},
   "outputs": [],
   "source": [
    "# 가격 해시 테이블\n",
    "infinity = float('inf')\n",
    "costs = {\n",
    "    'a' : 6,\n",
    "    'b' : 2,\n",
    "    'end' : infinity,\n",
    "}"
   ]
  },
  {
   "cell_type": "code",
   "execution_count": 3,
   "metadata": {},
   "outputs": [],
   "source": [
    "# 부모 해시 테이블\n",
    "parents = {\n",
    "    'a' : None,\n",
    "    'b' : None,\n",
    "    'end' : None,\n",
    "}"
   ]
  },
  {
   "cell_type": "code",
   "execution_count": 6,
   "metadata": {},
   "outputs": [],
   "source": [
    "# 각 정점은 한번만 처리해야 하므로 처리한 정점을 위한 배열\n",
    "processed = []"
   ]
  },
  {
   "cell_type": "code",
   "execution_count": 7,
   "metadata": {},
   "outputs": [],
   "source": [
    "def find_lowest_cost_node(costs):\n",
    "    lowest_cost = float('inf')\n",
    "    lowest_node = None\n",
    "    for node in costs:\n",
    "        cost= costs[node]\n",
    "        if cost < lowest_cost and node not in processed:\n",
    "            lowest_cost = cost\n",
    "            lowest_node = node\n",
    "    return lowest_node"
   ]
  },
  {
   "cell_type": "code",
   "execution_count": 8,
   "metadata": {},
   "outputs": [],
   "source": [
    "node = find_lowest_cost_node(costs)\n",
    "while node is not None:\n",
    "    cost = costs[node]\n",
    "    neighbors = graph[node]\n",
    "    for n in neighbors.keys():\n",
    "        new_cost = cost + neighbors[n]\n",
    "        if new_cost < costs[n]: \n",
    "            costs[n] = new_cost\n",
    "            parents[n] = node\n",
    "    processed.append(node)\n",
    "    node = find_lowest_cost_node(costs)"
   ]
  },
  {
   "cell_type": "code",
   "execution_count": 9,
   "metadata": {},
   "outputs": [
    {
     "name": "stdout",
     "output_type": "stream",
     "text": [
      "start에서 end까지의 최단 경로는 :  4\n"
     ]
    }
   ],
   "source": [
    "print('start에서 end까지의 최단 경로는 : ', costs['end'])"
   ]
  },
  {
   "cell_type": "markdown",
   "metadata": {},
   "source": [
    "start 노드에서 시작해서 가장 적은 가중치의 노드를 find_lowest_cost_node로 찾고, 그 노드의 이웃 노드를 계산해서 최솟값으로 갱신하고 다시 그 노드에서 가장 적은 가중치의 다음 노드를 find_lowest_cost_node로 찾고를 반복하여 processed에 아무것도 없어서 find_lowest_cost_node함수가 None을 반환하면 끝난다."
   ]
  }
 ],
 "metadata": {
  "kernelspec": {
   "display_name": "Python 3",
   "language": "python",
   "name": "python3"
  },
  "language_info": {
   "codemirror_mode": {
    "name": "ipython",
    "version": 3
   },
   "file_extension": ".py",
   "mimetype": "text/x-python",
   "name": "python",
   "nbconvert_exporter": "python",
   "pygments_lexer": "ipython3",
   "version": "3.6.7"
  }
 },
 "nbformat": 4,
 "nbformat_minor": 2
}
