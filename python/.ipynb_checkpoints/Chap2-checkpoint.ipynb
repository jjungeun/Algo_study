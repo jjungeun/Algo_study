{
 "cells": [
  {
   "cell_type": "markdown",
   "metadata": {},
   "source": [
    "# 선택정렬"
   ]
  },
  {
   "cell_type": "markdown",
   "metadata": {},
   "source": [
    "배열과 연결 리스트의 장단점을 알고, 알고리즘에 어떤 자료구조가 적당한지 결정할 수 있다."
   ]
  },
  {
   "cell_type": "markdown",
   "metadata": {},
   "source": [
    "### 배열과 연결 리스트"
   ]
  },
  {
   "cell_type": "markdown",
   "metadata": {},
   "source": [
    "배열의 장점 : 간단하다. 인덱스로 임의접근이 가능하다.\n",
    "\n",
    "배열의 단점 : 메모리가 낭비될 가능성이 높다. 배열의 크기를 넘어가면 안된다."
   ]
  },
  {
   "cell_type": "markdown",
   "metadata": {},
   "source": [
    "연결리스트 장점 : 원소를 메모리의 어느 곳에나 둘 수 있다.\n",
    "\n",
    "연결리스트 단점 : 원하는 인덱스의 값을 바로 알 수 없고 순차접근으로 접근해야 한다."
   ]
  },
  {
   "cell_type": "markdown",
   "metadata": {},
   "source": [
    "|배열|리스트\n",
    "---|---|---\n",
    "읽기|**O(1)**|**O(n)**\n",
    "삽입|**O(n)**|**O(1)**\n",
    "삭제|**O(n)**|**O(n)**"
   ]
  },
  {
   "cell_type": "markdown",
   "metadata": {},
   "source": [
    "**배열의 삽입 시간이 O(n)인 이유는 원소를 추가했을 때 배열의 범위를 넘지 않는지 확인하기 위해 끝까지 확인해야하기 때문이다.**"
   ]
  },
  {
   "cell_type": "markdown",
   "metadata": {},
   "source": [
    "##### - 가운데에 원소 삽입하기"
   ]
  },
  {
   "cell_type": "markdown",
   "metadata": {},
   "source": [
    "이 경우엔 리스트를 사용하는것이 훨씬 효율적이다. 리스트는 원소를 삽입하고, 앞 뒤의 주소만 변경해주면 된다.\n",
    "\n",
    "배열의 경우엔 원소를 하나씩 밀어야하고, 배열의 범위를 벗어나는 경우 새로운 주소로 배열을 복사해야 하기 때문이다."
   ]
  },
  {
   "cell_type": "markdown",
   "metadata": {},
   "source": [
    "##### - 삭제하기"
   ]
  },
  {
   "cell_type": "markdown",
   "metadata": {},
   "source": [
    "이 경우에도 리스트가 낫다."
   ]
  },
  {
   "cell_type": "markdown",
   "metadata": {},
   "source": [
    "** 배열과 리스트 중 배열의 사용빈도가 더 높다. 임의접근이 가능해서 읽기가 매우 빠르기 때문이다. **"
   ]
  },
  {
   "cell_type": "markdown",
   "metadata": {},
   "source": [
    "###  선택 정렬"
   ]
  },
  {
   "cell_type": "markdown",
   "metadata": {},
   "source": [
    "O(n^2)의 실행시간이 걸린다."
   ]
  },
  {
   "cell_type": "markdown",
   "metadata": {},
   "source": [
    "예를들어 배열을 작은 수에서 큰 수로 정렬하는 코드이다."
   ]
  },
  {
   "cell_type": "code",
   "execution_count": 5,
   "metadata": {},
   "outputs": [],
   "source": [
    "def findSmall(arr):\n",
    "    small = arr[0]\n",
    "    small_idx = 0\n",
    "    for i in range(1,len(arr)):\n",
    "        if arr[i] < small:\n",
    "            small = arr[i]\n",
    "            small_idx = i\n",
    "    \n",
    "    return small_idx"
   ]
  },
  {
   "cell_type": "code",
   "execution_count": 28,
   "metadata": {},
   "outputs": [],
   "source": [
    "def sort(arr):\n",
    "    newArr = []\n",
    "    for i in range(len(arr)):\n",
    "        smallest = findSmall(arr)\n",
    "        newArr.append(arr.pop(smallest))\n",
    "    return newArr"
   ]
  },
  {
   "cell_type": "code",
   "execution_count": 30,
   "metadata": {},
   "outputs": [
    {
     "data": {
      "text/plain": [
       "[0, 1, 2, 3, 4]"
      ]
     },
     "execution_count": 30,
     "metadata": {},
     "output_type": "execute_result"
    }
   ],
   "source": [
    "sort([1,2,4,3,0])"
   ]
  },
  {
   "cell_type": "markdown",
   "metadata": {},
   "source": [
    "**따라서 읽는 일이 많은 경우엔 배열을, 삽입과 검색이 일어나는 큐를 구현할 때는 연결리스트를 사용하도록 한다.**"
   ]
  }
 ],
 "metadata": {
  "kernelspec": {
   "display_name": "Python 3",
   "language": "python",
   "name": "python3"
  },
  "language_info": {
   "codemirror_mode": {
    "name": "ipython",
    "version": 3
   },
   "file_extension": ".py",
   "mimetype": "text/x-python",
   "name": "python",
   "nbconvert_exporter": "python",
   "pygments_lexer": "ipython3",
   "version": "3.6.7"
  }
 },
 "nbformat": 4,
 "nbformat_minor": 2
}
