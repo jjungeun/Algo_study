{
 "cells": [
  {
   "cell_type": "markdown",
   "metadata": {},
   "source": [
    "# 탐욕 알고리즘\n",
    "\n",
    "빠른 알고리즘 해법이 존재하지 않는 NP-완전문제를 다루는 법을 배운다.\n",
    "\n",
    "빠른 알고리즘을 찾느라 시간을 낭비하지 않도록 문제 해결이 불가능한지 아닌지 파악하는 방법을 공부한다.\n",
    "\n",
    "NP-완전 문제에 대한 간략한 해법을 빨리 구할 수 있는 근사 알고리즘과 간단한 문제 해결 기법의 하나인 탐욕 알고리즘을 공부한다."
   ]
  },
  {
   "cell_type": "markdown",
   "metadata": {},
   "source": [
    "**탐욕 알고리즘은 각 단계에서 최적의 수를 찾아내면 된다!**"
   ]
  },
  {
   "cell_type": "markdown",
   "metadata": {},
   "source": [
    "책의 예제를 토대로 탐욕 알고리즘을 공부해본다."
   ]
  },
  {
   "cell_type": "code",
   "execution_count": 1,
   "metadata": {},
   "outputs": [],
   "source": [
    "states_needed = set(['mt','wa','or','id','nv','ut','ca','az'])\n",
    "stations = {\n",
    "    'kone' : set(['id','nv','ut']),\n",
    "    'ktwo' : set(['wa','id','mt']),\n",
    "    'kthree' : set(['or','nv','ca']),\n",
    "    'kfour' : set(['nv','ut']),\n",
    "    'kfive' : set(['ca','az']),\n",
    "}"
   ]
  },
  {
   "cell_type": "code",
   "execution_count": 2,
   "metadata": {},
   "outputs": [],
   "source": [
    "final_stations = set()\n",
    "\n",
    "while states_needed:\n",
    "    best_station = None\n",
    "    states_covered = set()\n",
    "    for station, states in stations.items():\n",
    "        covered = states_needed & states\n",
    "        if len(covered) > len(states_covered):\n",
    "            best_station = station\n",
    "            states_covered = covered\n",
    "    final_stations.add(best_station)\n",
    "    states_needed -= states_covered"
   ]
  },
  {
   "cell_type": "code",
   "execution_count": 3,
   "metadata": {},
   "outputs": [
    {
     "data": {
      "text/plain": [
       "{'kfive', 'kone', 'kthree', 'ktwo'}"
      ]
     },
     "execution_count": 3,
     "metadata": {},
     "output_type": "execute_result"
    }
   ],
   "source": [
    "final_stations"
   ]
  },
  {
   "cell_type": "markdown",
   "metadata": {},
   "source": [
    "### NP-완전문제\n",
    "집합 커버링 문제를 풀기 위해서는 가능한 모든 집합을 계산해야 한다.\n",
    "\n",
    "ex> 외판원문제, 집합 커버링 문제"
   ]
  },
  {
   "cell_type": "markdown",
   "metadata": {},
   "source": [
    "##### 어떤 문제가 NP완전 문제인지 알 수 있는 방법은?\n",
    "- 보통 'x의 모든 조합'인 경우\n",
    "- 항목이 적을 때는 빠르지만 늘어나면서 급격히 느려진다.\n",
    "- 문제에 수열이나 집합이 있고 풀기가 어려운 경우"
   ]
  },
  {
   "cell_type": "markdown",
   "metadata": {},
   "source": [
    "너비 우선 탐색, 다익스트라 알고리즘도 NP완전 문제이다."
   ]
  }
 ],
 "metadata": {
  "kernelspec": {
   "display_name": "Python 3",
   "language": "python",
   "name": "python3"
  },
  "language_info": {
   "codemirror_mode": {
    "name": "ipython",
    "version": 3
   },
   "file_extension": ".py",
   "mimetype": "text/x-python",
   "name": "python",
   "nbconvert_exporter": "python",
   "pygments_lexer": "ipython3",
   "version": "3.6.7"
  }
 },
 "nbformat": 4,
 "nbformat_minor": 2
}
