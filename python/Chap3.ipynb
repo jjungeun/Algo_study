{
 "cells": [
  {
   "cell_type": "markdown",
   "metadata": {},
   "source": [
    "# 재귀"
   ]
  },
  {
   "cell_type": "markdown",
   "metadata": {},
   "source": [
    "우아한 해결 방법 중 하나인 재귀함수를 공부한다.\n",
    "\n",
    "재귀를 쓴다고 성능이 더 나아지지는 않는다. (반복문이 성능이 더 좋은 경우가 많다.)\n",
    "그러나 재귀를 쓰면 흐름이 훨씬 명확해진다."
   ]
  },
  {
   "cell_type": "markdown",
   "metadata": {},
   "source": [
    "무한루프를 방지하기 위해 재귀함수는 두 부분으로 나누어진다.\n",
    "\n",
    "1. 기본단계 : 함수가 자기 자신을 다시 호출하지 않는 경우\n",
    "\n",
    "2. 재귀단계 : 함수가 자기자신을 호출하는 경우\n",
    "\n"
   ]
  },
  {
   "cell_type": "markdown",
   "metadata": {},
   "source": [
    "예를들어 양수의 인자부터 1씩 줄여 1까지 출력하는 함수를 생각해본다."
   ]
  },
  {
   "cell_type": "code",
   "execution_count": 1,
   "metadata": {},
   "outputs": [],
   "source": [
    "def countdown(i):\n",
    "    print(i)\n",
    "    if i <= 1:\n",
    "        return    # 기본단계\n",
    "    else:\n",
    "        countdown(i-1)    #재귀단계"
   ]
  },
  {
   "cell_type": "code",
   "execution_count": 2,
   "metadata": {},
   "outputs": [
    {
     "name": "stdout",
     "output_type": "stream",
     "text": [
      "10\n",
      "9\n",
      "8\n",
      "7\n",
      "6\n",
      "5\n",
      "4\n",
      "3\n",
      "2\n",
      "1\n"
     ]
    }
   ],
   "source": [
    "countdown(10)"
   ]
  },
  {
   "cell_type": "markdown",
   "metadata": {},
   "source": [
    "### 스택"
   ]
  },
  {
   "cell_type": "markdown",
   "metadata": {},
   "source": [
    "top에서 push와 pop이 일어난다.\n",
    "여러 개의 함수를 호출하면서 함수에 사용되는 변수를 저장하는 스택을 호출 스택이라고 한다."
   ]
  },
  {
   "cell_type": "markdown",
   "metadata": {},
   "source": [
    "스택을 사용하면 편리하지만 그만큼 메모리를 많이 소비하게된다. (함수호출을 할때마다 메모리를 사용하므로)\n",
    "\n",
    "따라서 **재귀 대신 반복문을 사용**하거나 **꼬리재귀**방법을 사용할 수 있다."
   ]
  }
 ],
 "metadata": {
  "kernelspec": {
   "display_name": "Python 3",
   "language": "python",
   "name": "python3"
  },
  "language_info": {
   "codemirror_mode": {
    "name": "ipython",
    "version": 3
   },
   "file_extension": ".py",
   "mimetype": "text/x-python",
   "name": "python",
   "nbconvert_exporter": "python",
   "pygments_lexer": "ipython3",
   "version": "3.6.5"
  }
 },
 "nbformat": 4,
 "nbformat_minor": 2
}
