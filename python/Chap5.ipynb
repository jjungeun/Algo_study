{
 "cells": [
  {
   "cell_type": "markdown",
   "metadata": {},
   "source": [
    "# 해시 테이블"
   ]
  },
  {
   "cell_type": "markdown",
   "metadata": {},
   "source": [
    "가장 유용한 기본 자료구조 중 하나인 해시 테이블에대해 공부한다.\n",
    "\n",
    "해시 테이블의 구현 방법, 충돌, 해시 함수 등에 대해 배운다."
   ]
  },
  {
   "cell_type": "markdown",
   "metadata": {},
   "source": [
    "해시 함수는 같은 문자열에 대해 항상 같은 인텍스를 반환한다. 해시테이블의 실행시간은 O(1)이다.\n",
    "\n",
    "배열과 리스트는 직접 메모리를 할당하지만, 해시 테이블은 해시 함수를 사용해 더 똑똑하게 어디에 원소를 저장할지 결정한다."
   ]
  },
  {
   "cell_type": "markdown",
   "metadata": {},
   "source": [
    "파이썬에서는 **딕셔너리가 해시 테이블**이다."
   ]
  },
  {
   "cell_type": "markdown",
   "metadata": {},
   "source": [
    "해시 테이블은 키와 값을 가진다. 키로 값을 알 수 있는 것이다."
   ]
  },
  {
   "cell_type": "markdown",
   "metadata": {},
   "source": [
    "#### 해시테이블을 사용할 경우\n",
    "\n",
    "- 어떤 것을 다른 것과 연관시키고자 할 때\n",
    "- 무언가를 찾고자 할 때"
   ]
  },
  {
   "cell_type": "code",
   "execution_count": 1,
   "metadata": {},
   "outputs": [],
   "source": [
    "phone_num = {\n",
    "    'jenny' : 123456,\n",
    "    'emergency' : 119,\n",
    "    'home' : 1111,\n",
    "}"
   ]
  },
  {
   "cell_type": "code",
   "execution_count": 2,
   "metadata": {},
   "outputs": [
    {
     "data": {
      "text/plain": [
       "119"
      ]
     },
     "execution_count": 2,
     "metadata": {},
     "output_type": "execute_result"
    }
   ],
   "source": [
    "phone_num['emergency']"
   ]
  },
  {
   "cell_type": "code",
   "execution_count": 3,
   "metadata": {},
   "outputs": [
    {
     "data": {
      "text/plain": [
       "1111"
      ]
     },
     "execution_count": 3,
     "metadata": {},
     "output_type": "execute_result"
    }
   ],
   "source": [
    "phone_num.get('home')"
   ]
  },
  {
   "cell_type": "markdown",
   "metadata": {},
   "source": [
    "#### 연결 리스트\n",
    "할당해야 할 곳에 이미 어떠한 값이 할당되어 있다면 **충돌**이 일어난다. \n",
    "\n",
    "충돌해결의 가장 간단한 방법은 그 공간에 연결 리스트를 만드는 것이다."
   ]
  },
  {
   "cell_type": "markdown",
   "metadata": {},
   "source": [
    "그러나 연결 리스트가 길어지면 해시 테이블의 속도도 느려지게 된다. 따라서 충돌을 최소화하기 위한 해시 함수를 골라야 한다."
   ]
  },
  {
   "cell_type": "markdown",
   "metadata": {},
   "source": [
    "## 성능\n",
    "평균적으로 해시 테이블은 모든 항목에 대해 O(1)시간이 걸린다. 이는 상수 시간이라고 불린다.\n",
    "\n",
    "상수 시간은 순간적이라는 뜻이 아니라 해시 테이블의 크기에 상관없이 항상 똑같은 시간이 걸린다는 의미이다."
   ]
  },
  {
   "cell_type": "markdown",
   "metadata": {},
   "source": [
    "해시 테이블의 성능을 배열과 연결 리스트와 비교해 보자."
   ]
  },
  {
   "cell_type": "markdown",
   "metadata": {},
   "source": [
    "|해시테이블(평균)|해시테이블(최악)|배열|연결리스트\n",
    "-----|-----|-----|-----|-----\n",
    "탐색|O(1)|O(n)|O(1)|O(n)\n",
    "삽입|O(1)|O(n)|O(n)|O(1)\n",
    "삭제|O(1)|O(n)|O(n)|O(1)"
   ]
  },
  {
   "cell_type": "markdown",
   "metadata": {},
   "source": [
    "해시테이블의 성능을 위해선 충돌을 피해야 하는데, 이를 위해선 다음과 같은 것이 필요하다.\n",
    "- 낮은 사용률\n",
    "- 좋은 해시함수"
   ]
  },
  {
   "cell_type": "markdown",
   "metadata": {},
   "source": [
    "**사용률** : 해시 테이블에 있는 항목의 수 / 해시 테이블에 있는 공간의 수\n",
    "\n",
    "사용률이 1보다 크다면 배열에 공간의 수보다 항목의 수가 많기 때문에 **리사이징**을 하여 테이블의 공간을 추가해야 한다."
   ]
  },
  {
   "cell_type": "markdown",
   "metadata": {},
   "source": [
    "**좋은 해시함수** : 배열에 값을 고루 분포시키는 함수"
   ]
  }
 ],
 "metadata": {
  "kernelspec": {
   "display_name": "Python 3",
   "language": "python",
   "name": "python3"
  },
  "language_info": {
   "codemirror_mode": {
    "name": "ipython",
    "version": 3
   },
   "file_extension": ".py",
   "mimetype": "text/x-python",
   "name": "python",
   "nbconvert_exporter": "python",
   "pygments_lexer": "ipython3",
   "version": "3.6.7"
  }
 },
 "nbformat": 4,
 "nbformat_minor": 2
}
