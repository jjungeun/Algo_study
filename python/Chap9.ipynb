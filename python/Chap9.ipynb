{
 "cells": [
  {
   "cell_type": "markdown",
   "metadata": {},
   "source": [
    "# 동적 프로그래밍\n",
    "어려운 문제를 여러 개의 하위 문제로 쪼개고 이 하위 문제들을 먼저 해결하는 방법인 동적 프로그래밍 기법을 배운다."
   ]
  },
  {
   "cell_type": "markdown",
   "metadata": {},
   "source": [
    "### 배낭 채우기 문제\n",
    "물건의 가치를 최대로 높이기 위해서 어떤 물건을 선택해야 하나?\n",
    "- 단순한 방법 : 모든 물건 조합을 시도해 가장 가치가 높은 경우를 선택. 하지만 이 방법은 너무 느리다.\n",
    "- 동적 프로그래밍 : 하위 문제들을 풀고 이를 이용해 더 큰 문제를 푸는 방법. 즉 더 작은 배낭에 대한 문제를 풀고 이를 이용해 원래의 문제를 푼다."
   ]
  },
  {
   "cell_type": "markdown",
   "metadata": {},
   "source": [
    "모든 동적 프로그래밍 알고리즘은 나누는걸로 시작한다.\n",
    "\n",
    "cell[i][j]의 최대값은 둘 중 하나이다.\n",
    "1. 지금까지 구한 cell[i-1][j]의 값 중 가장 최대값\n",
    "2. 현재 물거느이 가치 + 남은 공간의 가치(celll[i-1][j-물건의 무게])"
   ]
  },
  {
   "cell_type": "markdown",
   "metadata": {},
   "source": [
    "### 여행 일정 최적화 문제\n",
    "\n",
    "여행 일정 최적화 문제도 배낭 채우기 문제와 같이 하위문제로 나누어 풀 수 있다."
   ]
  },
  {
   "cell_type": "markdown",
   "metadata": {},
   "source": [
    "** 동적 프로그래밍은 문제를 더 작은 하위 문제로 풀고, 이 하위 문제를 푼 결과를 이용해 더 큰 문제를 푸는 방법이다. 따라서 각 하위 문제가 관계가 없을 때, 즉 서로 의존하지 않는 경우에만 쓸 수 있다.**\n",
    "## 동적 프로그래밍은 **어떤 제한 조건이 주어졌을 때, 무언가를 최적화하는 경우**에 유용하다."
   ]
  },
  {
   "cell_type": "markdown",
   "metadata": {},
   "source": [
    "### 최장 공통 부분 문자열\n",
    "동적 프로그래밍과 관련된 예제이다.\n",
    "\n",
    "입력된 단어와 가장 비슷한 단어를 반환하는 함수를 생각해 본다."
   ]
  },
  {
   "cell_type": "markdown",
   "metadata": {},
   "source": [
    "- 각 칸에 넣을 숫자는? 공통된 부분 길이\n",
    "- 어떻게 하위문제로 나눌까? 공통 부분을 비교한다.\n",
    "- 격자의 축은? 가로축 : 대상 문자열, 세로축 : 비교할 문자열"
   ]
  },
  {
   "cell_type": "markdown",
   "metadata": {},
   "source": [
    "if word_a[i] == word_b[j]:\n",
    "    cell[i][j] = cell[i-1][j-1]+1\n",
    "else:\n",
    "    cell[i][j] = 0"
   ]
  },
  {
   "cell_type": "markdown",
   "metadata": {},
   "source": [
    "하지만 이렇게 하게 되면 fosh를 fish와 fort를 비교하면 같은 값이 나오게 된다.\n",
    "\n",
    "따라서 최장 공통부분 문자열이 아닌 최장 공통 부분열, 즉 **두 단어에서 순서가 바뀌지 않고 공통으로 들어간 글자의 개수를 최대화하는 것이 옳다.**"
   ]
  },
  {
   "cell_type": "markdown",
   "metadata": {},
   "source": [
    "if word_a[i] == word_b[j]:\n",
    "    cell[i][j] = cell[i-1][j-1]+1\n",
    "else:\n",
    "    cell[i][j] = max(cell[i][j-1],cell[i-1][j])"
   ]
  }
 ],
 "metadata": {
  "kernelspec": {
   "display_name": "Python 3",
   "language": "python",
   "name": "python3"
  },
  "language_info": {
   "codemirror_mode": {
    "name": "ipython",
    "version": 3
   },
   "file_extension": ".py",
   "mimetype": "text/x-python",
   "name": "python",
   "nbconvert_exporter": "python",
   "pygments_lexer": "ipython3",
   "version": "3.6.7"
  }
 },
 "nbformat": 4,
 "nbformat_minor": 2
}
